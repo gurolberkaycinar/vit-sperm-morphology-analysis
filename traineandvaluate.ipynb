{
 "cells": [
  {
   "cell_type": "code",
   "execution_count": 5,
   "metadata": {},
   "outputs": [],
   "source": [
    "import os\n",
    "from torchvision import datasets, transforms\n",
    "from torch.utils.data import DataLoader, ConcatDataset\n",
    "from PIL import Image\n",
    "import torch\n",
    "import timm\n",
    "from transformers import BeitForImageClassification, DeiTForImageClassification, Swinv2ForImageClassification, ConvNextForImageClassification, ConvNextV2ForImageClassification, Dinov2ForImageClassification\n",
    "from torch.optim import Adamax, RMSprop, SGD\n",
    "from torch.optim.lr_scheduler import StepLR\n",
    "from tqdm import tqdm \n",
    "import time\n",
    "import timm\n",
    "from sklearn.metrics import confusion_matrix, classification_report\n",
    "import matplotlib.pyplot as plt\n",
    "import seaborn as sns\n",
    "import numpy as np\n"
   ]
  },
  {
   "cell_type": "code",
   "execution_count": 6,
   "metadata": {},
   "outputs": [
    {
     "name": "stdout",
     "output_type": "stream",
     "text": [
      "datasets/Boya3\n",
      "['fold3', 'fold1', 'fold4', 'fold5', 'fold2']\n",
      "expandable_segments:True\n"
     ]
    }
   ],
   "source": [
    "transform = transforms.Compose([\n",
    "    transforms.Resize((224, 224)),\n",
    "    transforms.ToTensor(),\n",
    "    transforms.Normalize(mean=[0.5, 0.5, 0.5], std=[0.5, 0.5, 0.5]),\n",
    "])\n",
    "\n",
    "data_dir = os.path.join('datasets', 'Boya3')\n",
    "print(data_dir)\n",
    "\n",
    "fold_dirs = [fold for fold in os.listdir(data_dir) if os.path.isdir(os.path.join(data_dir, fold)) and \"fold\" in fold]\n",
    "fold_results = {}\n",
    "print(fold_dirs)\n",
    "\n",
    "os.environ[\"PYTORCH_CUDA_ALLOC_CONF\"] = \"expandable_segments:True\"\n",
    "print(os.environ[\"PYTORCH_CUDA_ALLOC_CONF\"])"
   ]
  },
  {
   "cell_type": "code",
   "execution_count": 7,
   "metadata": {},
   "outputs": [],
   "source": [
    "def train_model(fold_idx):\n",
    "    model = Dinov2ForImageClassification.from_pretrained(\n",
    "        \"facebook/dinov2-small\",\n",
    "        num_labels=18,\n",
    "        ignore_mismatched_sizes=True\n",
    "    )\n",
    "\n",
    "    device = torch.device(\"cuda\" if torch.cuda.is_available() else \"cpu\")\n",
    "    model = model.to(device)\n",
    "    print(device)\n",
    "    print(model)\n",
    "\n",
    "    train_path = os.path.join(data_dir, f\"fold{fold_idx}\", 'train')\n",
    "    test_path = os.path.join(data_dir, f\"fold{fold_idx}\", 'test')\n",
    "    \n",
    "    train_dataset = datasets.ImageFolder(root=train_path, transform=transform)\n",
    "    val_dataset = datasets.ImageFolder(root=test_path, transform=transform)\n",
    "\n",
    "    train_loader = DataLoader(train_dataset, batch_size=32, shuffle=True)\n",
    "    val_loader = DataLoader(val_dataset, batch_size=32, shuffle=False)\n",
    "\n",
    "    optimizer = RMSprop(model.parameters(), lr=1e-5, momentum=0.9, weight_decay=5e-4)\n",
    "    scheduler = StepLR(optimizer, step_size=5, gamma=0.1)\n",
    "    \n",
    "    best_loss = float('inf')\n",
    "    best_model_path = os.path.join(data_dir, f\"best_model_fold{fold_idx}.pth\")\n",
    "\n",
    "    for epoch in range(20):\n",
    "        model.train()\n",
    "        total_loss = 0\n",
    "\n",
    "        with tqdm(train_loader, desc=f\"Fold {fold_idx} Epoch {epoch + 1}/20\", unit=\"batch\") as t:\n",
    "            for batch in t:\n",
    "                inputs, labels = batch[0].to(device), batch[1].to(device)\n",
    "                outputs = model(inputs, labels=labels)\n",
    "                loss = outputs.loss\n",
    "\n",
    "                optimizer.zero_grad()\n",
    "                loss.backward()\n",
    "                optimizer.step()\n",
    "\n",
    "                total_loss += loss.item()\n",
    "                t.set_postfix(loss=loss.item())\n",
    "\n",
    "                del inputs, labels, outputs, loss\n",
    "                torch.cuda.empty_cache()\n",
    "\n",
    "        avg_loss = total_loss / len(train_loader)\n",
    "        print(f\"Fold {fold_idx} Epoch {epoch + 1}/20, Loss: {avg_loss}\")\n",
    "\n",
    "        scheduler.step()\n",
    "\n",
    "        if avg_loss < best_loss:\n",
    "            best_loss = avg_loss\n",
    "            torch.save(model.state_dict(), best_model_path)\n",
    "            print(f\"New best model saved with loss: {best_loss}\")\n",
    "\n",
    "\n",
    "\n",
    "def evaluate_model(fold_idx):\n",
    "    \n",
    "    model_path = os.path.join(data_dir, f\"best_model_fold{fold_idx}.pth\")\n",
    "    \n",
    "    device = torch.device(\"cuda\" if torch.cuda.is_available() else \"cpu\")\n",
    "    \n",
    "    model = Dinov2ForImageClassification.from_pretrained(\n",
    "        \"facebook/dinov2-small\",\n",
    "        num_labels=18,\n",
    "        ignore_mismatched_sizes=True\n",
    "    )\n",
    "\n",
    "    model.load_state_dict(torch.load(model_path))\n",
    "    model = model.to(device)\n",
    "    model.eval()\n",
    "\n",
    "    test_path = os.path.join(data_dir, f\"fold{fold_idx}\", 'test')\n",
    "    val_dataset = datasets.ImageFolder(root=test_path, transform=transform)\n",
    "    val_loader = DataLoader(val_dataset, batch_size=32, shuffle=False)\n",
    "\n",
    "    val_targets = []\n",
    "    val_predictions = []\n",
    "\n",
    "    with torch.no_grad():\n",
    "        for inputs, targets in val_loader:\n",
    "            inputs, targets = inputs.to(device), targets.to(device)\n",
    "            outputs = model(inputs)\n",
    "            predictions = torch.argmax(outputs.logits, dim=1)\n",
    "            val_targets.extend(targets.cpu().numpy())\n",
    "            val_predictions.extend(predictions.cpu().numpy())\n",
    "\n",
    "    cm = confusion_matrix(val_targets, val_predictions)\n",
    "    print(f\"Fold {fold_idx} Confusion Matrix:\")\n",
    "    print(cm)\n",
    "    with open(os.path.join(data_dir, f'cm_{fold_idx}.txt'), 'w') as f:\n",
    "        print(cm, file=f)\n",
    "\n",
    "    report = classification_report(val_targets, val_predictions, output_dict=True, target_names=val_dataset.classes)\n",
    "    print(report)\n",
    "    with open(os.path.join(data_dir, f'report_{fold_idx}.txt'), 'w') as f:\n",
    "        print(report, file=f)\n",
    "\n",
    "    fold_results[fold_idx] = (report, cm)"
   ]
  },
  {
   "cell_type": "code",
   "execution_count": 8,
   "metadata": {},
   "outputs": [
    {
     "name": "stderr",
     "output_type": "stream",
     "text": [
      "Some weights of Dinov2ForImageClassification were not initialized from the model checkpoint at facebook/dinov2-small and are newly initialized: ['classifier.bias', 'classifier.weight']\n",
      "You should probably TRAIN this model on a down-stream task to be able to use it for predictions and inference.\n"
     ]
    },
    {
     "name": "stdout",
     "output_type": "stream",
     "text": [
      "cuda\n",
      "Dinov2ForImageClassification(\n",
      "  (dinov2): Dinov2Model(\n",
      "    (embeddings): Dinov2Embeddings(\n",
      "      (patch_embeddings): Dinov2PatchEmbeddings(\n",
      "        (projection): Conv2d(3, 384, kernel_size=(14, 14), stride=(14, 14))\n",
      "      )\n",
      "      (dropout): Dropout(p=0.0, inplace=False)\n",
      "    )\n",
      "    (encoder): Dinov2Encoder(\n",
      "      (layer): ModuleList(\n",
      "        (0-11): 12 x Dinov2Layer(\n",
      "          (norm1): LayerNorm((384,), eps=1e-06, elementwise_affine=True)\n",
      "          (attention): Dinov2SdpaAttention(\n",
      "            (attention): Dinov2SdpaSelfAttention(\n",
      "              (query): Linear(in_features=384, out_features=384, bias=True)\n",
      "              (key): Linear(in_features=384, out_features=384, bias=True)\n",
      "              (value): Linear(in_features=384, out_features=384, bias=True)\n",
      "              (dropout): Dropout(p=0.0, inplace=False)\n",
      "            )\n",
      "            (output): Dinov2SelfOutput(\n",
      "              (dense): Linear(in_features=384, out_features=384, bias=True)\n",
      "              (dropout): Dropout(p=0.0, inplace=False)\n",
      "            )\n",
      "          )\n",
      "          (layer_scale1): Dinov2LayerScale()\n",
      "          (drop_path): Identity()\n",
      "          (norm2): LayerNorm((384,), eps=1e-06, elementwise_affine=True)\n",
      "          (mlp): Dinov2MLP(\n",
      "            (fc1): Linear(in_features=384, out_features=1536, bias=True)\n",
      "            (activation): GELUActivation()\n",
      "            (fc2): Linear(in_features=1536, out_features=384, bias=True)\n",
      "          )\n",
      "          (layer_scale2): Dinov2LayerScale()\n",
      "        )\n",
      "      )\n",
      "    )\n",
      "    (layernorm): LayerNorm((384,), eps=1e-06, elementwise_affine=True)\n",
      "  )\n",
      "  (classifier): Linear(in_features=768, out_features=18, bias=True)\n",
      ")\n"
     ]
    },
    {
     "name": "stderr",
     "output_type": "stream",
     "text": [
      "Fold 1 Epoch 1/20: 100%|██████████| 316/316 [02:05<00:00,  2.51batch/s, loss=1.76]\n"
     ]
    },
    {
     "name": "stdout",
     "output_type": "stream",
     "text": [
      "Fold 1 Epoch 1/20, Loss: 2.302917218283762\n",
      "New best model saved with loss: 2.302917218283762\n"
     ]
    },
    {
     "name": "stderr",
     "output_type": "stream",
     "text": [
      "Fold 1 Epoch 2/20: 100%|██████████| 316/316 [02:06<00:00,  2.49batch/s, loss=2.23]\n"
     ]
    },
    {
     "name": "stdout",
     "output_type": "stream",
     "text": [
      "Fold 1 Epoch 2/20, Loss: 2.041958336211458\n",
      "New best model saved with loss: 2.041958336211458\n"
     ]
    },
    {
     "name": "stderr",
     "output_type": "stream",
     "text": [
      "Fold 1 Epoch 3/20: 100%|██████████| 316/316 [02:06<00:00,  2.49batch/s, loss=2.08]\n"
     ]
    },
    {
     "name": "stdout",
     "output_type": "stream",
     "text": [
      "Fold 1 Epoch 3/20, Loss: 1.9857762346539316\n",
      "New best model saved with loss: 1.9857762346539316\n"
     ]
    },
    {
     "name": "stderr",
     "output_type": "stream",
     "text": [
      "Fold 1 Epoch 4/20: 100%|██████████| 316/316 [02:06<00:00,  2.49batch/s, loss=1.87]\n"
     ]
    },
    {
     "name": "stdout",
     "output_type": "stream",
     "text": [
      "Fold 1 Epoch 4/20, Loss: 1.961775606191611\n",
      "New best model saved with loss: 1.961775606191611\n"
     ]
    },
    {
     "name": "stderr",
     "output_type": "stream",
     "text": [
      "Fold 1 Epoch 5/20: 100%|██████████| 316/316 [02:06<00:00,  2.50batch/s, loss=1.7] \n"
     ]
    },
    {
     "name": "stdout",
     "output_type": "stream",
     "text": [
      "Fold 1 Epoch 5/20, Loss: 1.9309610724449158\n",
      "New best model saved with loss: 1.9309610724449158\n"
     ]
    },
    {
     "name": "stderr",
     "output_type": "stream",
     "text": [
      "Fold 1 Epoch 6/20: 100%|██████████| 316/316 [02:07<00:00,  2.48batch/s, loss=2.08]\n"
     ]
    },
    {
     "name": "stdout",
     "output_type": "stream",
     "text": [
      "Fold 1 Epoch 6/20, Loss: 1.8415130350408675\n",
      "New best model saved with loss: 1.8415130350408675\n"
     ]
    },
    {
     "name": "stderr",
     "output_type": "stream",
     "text": [
      "Fold 1 Epoch 7/20: 100%|██████████| 316/316 [02:06<00:00,  2.50batch/s, loss=1.4] \n"
     ]
    },
    {
     "name": "stdout",
     "output_type": "stream",
     "text": [
      "Fold 1 Epoch 7/20, Loss: 1.8228256864638268\n",
      "New best model saved with loss: 1.8228256864638268\n"
     ]
    },
    {
     "name": "stderr",
     "output_type": "stream",
     "text": [
      "Fold 1 Epoch 8/20: 100%|██████████| 316/316 [02:06<00:00,  2.49batch/s, loss=2.01]\n"
     ]
    },
    {
     "name": "stdout",
     "output_type": "stream",
     "text": [
      "Fold 1 Epoch 8/20, Loss: 1.8090212303626387\n",
      "New best model saved with loss: 1.8090212303626387\n"
     ]
    },
    {
     "name": "stderr",
     "output_type": "stream",
     "text": [
      "Fold 1 Epoch 9/20: 100%|██████████| 316/316 [02:06<00:00,  2.49batch/s, loss=1.68]\n"
     ]
    },
    {
     "name": "stdout",
     "output_type": "stream",
     "text": [
      "Fold 1 Epoch 9/20, Loss: 1.7971442390846302\n",
      "New best model saved with loss: 1.7971442390846302\n"
     ]
    },
    {
     "name": "stderr",
     "output_type": "stream",
     "text": [
      "Fold 1 Epoch 10/20: 100%|██████████| 316/316 [02:07<00:00,  2.48batch/s, loss=1.8] \n"
     ]
    },
    {
     "name": "stdout",
     "output_type": "stream",
     "text": [
      "Fold 1 Epoch 10/20, Loss: 1.7884480768366704\n",
      "New best model saved with loss: 1.7884480768366704\n"
     ]
    },
    {
     "name": "stderr",
     "output_type": "stream",
     "text": [
      "Fold 1 Epoch 11/20: 100%|██████████| 316/316 [02:07<00:00,  2.48batch/s, loss=1.85]\n"
     ]
    },
    {
     "name": "stdout",
     "output_type": "stream",
     "text": [
      "Fold 1 Epoch 11/20, Loss: 1.7706793739071376\n",
      "New best model saved with loss: 1.7706793739071376\n"
     ]
    },
    {
     "name": "stderr",
     "output_type": "stream",
     "text": [
      "Fold 1 Epoch 12/20: 100%|██████████| 316/316 [02:06<00:00,  2.49batch/s, loss=1.65]\n"
     ]
    },
    {
     "name": "stdout",
     "output_type": "stream",
     "text": [
      "Fold 1 Epoch 12/20, Loss: 1.7672905110860173\n",
      "New best model saved with loss: 1.7672905110860173\n"
     ]
    },
    {
     "name": "stderr",
     "output_type": "stream",
     "text": [
      "Fold 1 Epoch 13/20: 100%|██████████| 316/316 [02:06<00:00,  2.49batch/s, loss=1.96]\n"
     ]
    },
    {
     "name": "stdout",
     "output_type": "stream",
     "text": [
      "Fold 1 Epoch 13/20, Loss: 1.7652120707155783\n",
      "New best model saved with loss: 1.7652120707155783\n"
     ]
    },
    {
     "name": "stderr",
     "output_type": "stream",
     "text": [
      "Fold 1 Epoch 14/20: 100%|██████████| 316/316 [02:06<00:00,  2.50batch/s, loss=1.64]\n"
     ]
    },
    {
     "name": "stdout",
     "output_type": "stream",
     "text": [
      "Fold 1 Epoch 14/20, Loss: 1.7640990211239345\n",
      "New best model saved with loss: 1.7640990211239345\n"
     ]
    },
    {
     "name": "stderr",
     "output_type": "stream",
     "text": [
      "Fold 1 Epoch 15/20: 100%|██████████| 316/316 [02:06<00:00,  2.49batch/s, loss=1.68]\n"
     ]
    },
    {
     "name": "stdout",
     "output_type": "stream",
     "text": [
      "Fold 1 Epoch 15/20, Loss: 1.7629521202437486\n",
      "New best model saved with loss: 1.7629521202437486\n"
     ]
    },
    {
     "name": "stderr",
     "output_type": "stream",
     "text": [
      "Fold 1 Epoch 16/20: 100%|██████████| 316/316 [02:06<00:00,  2.49batch/s, loss=1.58]\n"
     ]
    },
    {
     "name": "stdout",
     "output_type": "stream",
     "text": [
      "Fold 1 Epoch 16/20, Loss: 1.7606240488305878\n",
      "New best model saved with loss: 1.7606240488305878\n"
     ]
    },
    {
     "name": "stderr",
     "output_type": "stream",
     "text": [
      "Fold 1 Epoch 17/20: 100%|██████████| 316/316 [02:06<00:00,  2.49batch/s, loss=2.12]\n"
     ]
    },
    {
     "name": "stdout",
     "output_type": "stream",
     "text": [
      "Fold 1 Epoch 17/20, Loss: 1.760447375382049\n",
      "New best model saved with loss: 1.760447375382049\n"
     ]
    },
    {
     "name": "stderr",
     "output_type": "stream",
     "text": [
      "Fold 1 Epoch 18/20: 100%|██████████| 316/316 [02:06<00:00,  2.50batch/s, loss=1.69]\n"
     ]
    },
    {
     "name": "stdout",
     "output_type": "stream",
     "text": [
      "Fold 1 Epoch 18/20, Loss: 1.7601240658307378\n",
      "New best model saved with loss: 1.7601240658307378\n"
     ]
    },
    {
     "name": "stderr",
     "output_type": "stream",
     "text": [
      "Fold 1 Epoch 19/20: 100%|██████████| 316/316 [02:07<00:00,  2.49batch/s, loss=1.84]\n"
     ]
    },
    {
     "name": "stdout",
     "output_type": "stream",
     "text": [
      "Fold 1 Epoch 19/20, Loss: 1.7600274798990805\n",
      "New best model saved with loss: 1.7600274798990805\n"
     ]
    },
    {
     "name": "stderr",
     "output_type": "stream",
     "text": [
      "Fold 1 Epoch 20/20: 100%|██████████| 316/316 [02:06<00:00,  2.50batch/s, loss=1.8] \n"
     ]
    },
    {
     "name": "stdout",
     "output_type": "stream",
     "text": [
      "Fold 1 Epoch 20/20, Loss: 1.7599287323559387\n",
      "New best model saved with loss: 1.7599287323559387\n"
     ]
    },
    {
     "name": "stderr",
     "output_type": "stream",
     "text": [
      "Some weights of Dinov2ForImageClassification were not initialized from the model checkpoint at facebook/dinov2-small and are newly initialized: ['classifier.bias', 'classifier.weight']\n",
      "You should probably TRAIN this model on a down-stream task to be able to use it for predictions and inference.\n"
     ]
    },
    {
     "name": "stdout",
     "output_type": "stream",
     "text": [
      "cuda\n",
      "Dinov2ForImageClassification(\n",
      "  (dinov2): Dinov2Model(\n",
      "    (embeddings): Dinov2Embeddings(\n",
      "      (patch_embeddings): Dinov2PatchEmbeddings(\n",
      "        (projection): Conv2d(3, 384, kernel_size=(14, 14), stride=(14, 14))\n",
      "      )\n",
      "      (dropout): Dropout(p=0.0, inplace=False)\n",
      "    )\n",
      "    (encoder): Dinov2Encoder(\n",
      "      (layer): ModuleList(\n",
      "        (0-11): 12 x Dinov2Layer(\n",
      "          (norm1): LayerNorm((384,), eps=1e-06, elementwise_affine=True)\n",
      "          (attention): Dinov2SdpaAttention(\n",
      "            (attention): Dinov2SdpaSelfAttention(\n",
      "              (query): Linear(in_features=384, out_features=384, bias=True)\n",
      "              (key): Linear(in_features=384, out_features=384, bias=True)\n",
      "              (value): Linear(in_features=384, out_features=384, bias=True)\n",
      "              (dropout): Dropout(p=0.0, inplace=False)\n",
      "            )\n",
      "            (output): Dinov2SelfOutput(\n",
      "              (dense): Linear(in_features=384, out_features=384, bias=True)\n",
      "              (dropout): Dropout(p=0.0, inplace=False)\n",
      "            )\n",
      "          )\n",
      "          (layer_scale1): Dinov2LayerScale()\n",
      "          (drop_path): Identity()\n",
      "          (norm2): LayerNorm((384,), eps=1e-06, elementwise_affine=True)\n",
      "          (mlp): Dinov2MLP(\n",
      "            (fc1): Linear(in_features=384, out_features=1536, bias=True)\n",
      "            (activation): GELUActivation()\n",
      "            (fc2): Linear(in_features=1536, out_features=384, bias=True)\n",
      "          )\n",
      "          (layer_scale2): Dinov2LayerScale()\n",
      "        )\n",
      "      )\n",
      "    )\n",
      "    (layernorm): LayerNorm((384,), eps=1e-06, elementwise_affine=True)\n",
      "  )\n",
      "  (classifier): Linear(in_features=768, out_features=18, bias=True)\n",
      ")\n"
     ]
    },
    {
     "name": "stderr",
     "output_type": "stream",
     "text": [
      "Fold 2 Epoch 1/20: 100%|██████████| 316/316 [02:06<00:00,  2.50batch/s, loss=1.95]\n"
     ]
    },
    {
     "name": "stdout",
     "output_type": "stream",
     "text": [
      "Fold 2 Epoch 1/20, Loss: 2.3094877038575428\n",
      "New best model saved with loss: 2.3094877038575428\n"
     ]
    },
    {
     "name": "stderr",
     "output_type": "stream",
     "text": [
      "Fold 2 Epoch 2/20: 100%|██████████| 316/316 [02:06<00:00,  2.50batch/s, loss=1.6] \n"
     ]
    },
    {
     "name": "stdout",
     "output_type": "stream",
     "text": [
      "Fold 2 Epoch 2/20, Loss: 2.0213671130470083\n",
      "New best model saved with loss: 2.0213671130470083\n"
     ]
    },
    {
     "name": "stderr",
     "output_type": "stream",
     "text": [
      "Fold 2 Epoch 3/20: 100%|██████████| 316/316 [02:06<00:00,  2.51batch/s, loss=1.66]\n"
     ]
    },
    {
     "name": "stdout",
     "output_type": "stream",
     "text": [
      "Fold 2 Epoch 3/20, Loss: 1.967638657440113\n",
      "New best model saved with loss: 1.967638657440113\n"
     ]
    },
    {
     "name": "stderr",
     "output_type": "stream",
     "text": [
      "Fold 2 Epoch 4/20: 100%|██████████| 316/316 [02:06<00:00,  2.50batch/s, loss=1.47]\n"
     ]
    },
    {
     "name": "stdout",
     "output_type": "stream",
     "text": [
      "Fold 2 Epoch 4/20, Loss: 1.933754666696621\n",
      "New best model saved with loss: 1.933754666696621\n"
     ]
    },
    {
     "name": "stderr",
     "output_type": "stream",
     "text": [
      "Fold 2 Epoch 5/20: 100%|██████████| 316/316 [02:06<00:00,  2.50batch/s, loss=2.11]\n"
     ]
    },
    {
     "name": "stdout",
     "output_type": "stream",
     "text": [
      "Fold 2 Epoch 5/20, Loss: 1.9108852940269663\n",
      "New best model saved with loss: 1.9108852940269663\n"
     ]
    },
    {
     "name": "stderr",
     "output_type": "stream",
     "text": [
      "Fold 2 Epoch 6/20: 100%|██████████| 316/316 [02:05<00:00,  2.51batch/s, loss=1.56]\n"
     ]
    },
    {
     "name": "stdout",
     "output_type": "stream",
     "text": [
      "Fold 2 Epoch 6/20, Loss: 1.8131376859507984\n",
      "New best model saved with loss: 1.8131376859507984\n"
     ]
    },
    {
     "name": "stderr",
     "output_type": "stream",
     "text": [
      "Fold 2 Epoch 7/20: 100%|██████████| 316/316 [02:05<00:00,  2.51batch/s, loss=1.52]\n"
     ]
    },
    {
     "name": "stdout",
     "output_type": "stream",
     "text": [
      "Fold 2 Epoch 7/20, Loss: 1.785043244120441\n",
      "New best model saved with loss: 1.785043244120441\n"
     ]
    },
    {
     "name": "stderr",
     "output_type": "stream",
     "text": [
      "Fold 2 Epoch 8/20: 100%|██████████| 316/316 [02:05<00:00,  2.52batch/s, loss=1.89]\n"
     ]
    },
    {
     "name": "stdout",
     "output_type": "stream",
     "text": [
      "Fold 2 Epoch 8/20, Loss: 1.7727252542972565\n",
      "New best model saved with loss: 1.7727252542972565\n"
     ]
    },
    {
     "name": "stderr",
     "output_type": "stream",
     "text": [
      "Fold 2 Epoch 9/20: 100%|██████████| 316/316 [02:06<00:00,  2.50batch/s, loss=1.97]\n"
     ]
    },
    {
     "name": "stdout",
     "output_type": "stream",
     "text": [
      "Fold 2 Epoch 9/20, Loss: 1.763038082590586\n",
      "New best model saved with loss: 1.763038082590586\n"
     ]
    },
    {
     "name": "stderr",
     "output_type": "stream",
     "text": [
      "Fold 2 Epoch 10/20: 100%|██████████| 316/316 [02:06<00:00,  2.49batch/s, loss=1.47]\n"
     ]
    },
    {
     "name": "stdout",
     "output_type": "stream",
     "text": [
      "Fold 2 Epoch 10/20, Loss: 1.7527060693577876\n",
      "New best model saved with loss: 1.7527060693577876\n"
     ]
    },
    {
     "name": "stderr",
     "output_type": "stream",
     "text": [
      "Fold 2 Epoch 11/20: 100%|██████████| 316/316 [02:07<00:00,  2.49batch/s, loss=1.62]\n"
     ]
    },
    {
     "name": "stdout",
     "output_type": "stream",
     "text": [
      "Fold 2 Epoch 11/20, Loss: 1.7294171863718877\n",
      "New best model saved with loss: 1.7294171863718877\n"
     ]
    },
    {
     "name": "stderr",
     "output_type": "stream",
     "text": [
      "Fold 2 Epoch 12/20: 100%|██████████| 316/316 [02:07<00:00,  2.49batch/s, loss=1.83]\n"
     ]
    },
    {
     "name": "stdout",
     "output_type": "stream",
     "text": [
      "Fold 2 Epoch 12/20, Loss: 1.7249449087849147\n",
      "New best model saved with loss: 1.7249449087849147\n"
     ]
    },
    {
     "name": "stderr",
     "output_type": "stream",
     "text": [
      "Fold 2 Epoch 13/20: 100%|██████████| 316/316 [02:06<00:00,  2.49batch/s, loss=1.15]\n"
     ]
    },
    {
     "name": "stdout",
     "output_type": "stream",
     "text": [
      "Fold 2 Epoch 13/20, Loss: 1.722710336310954\n",
      "New best model saved with loss: 1.722710336310954\n"
     ]
    },
    {
     "name": "stderr",
     "output_type": "stream",
     "text": [
      "Fold 2 Epoch 14/20: 100%|██████████| 316/316 [02:06<00:00,  2.50batch/s, loss=1.72]\n"
     ]
    },
    {
     "name": "stdout",
     "output_type": "stream",
     "text": [
      "Fold 2 Epoch 14/20, Loss: 1.7211649730990204\n",
      "New best model saved with loss: 1.7211649730990204\n"
     ]
    },
    {
     "name": "stderr",
     "output_type": "stream",
     "text": [
      "Fold 2 Epoch 15/20: 100%|██████████| 316/316 [02:07<00:00,  2.49batch/s, loss=1.88]\n"
     ]
    },
    {
     "name": "stdout",
     "output_type": "stream",
     "text": [
      "Fold 2 Epoch 15/20, Loss: 1.7204428545281858\n",
      "New best model saved with loss: 1.7204428545281858\n"
     ]
    },
    {
     "name": "stderr",
     "output_type": "stream",
     "text": [
      "Fold 2 Epoch 16/20: 100%|██████████| 316/316 [02:06<00:00,  2.49batch/s, loss=1.89]\n"
     ]
    },
    {
     "name": "stdout",
     "output_type": "stream",
     "text": [
      "Fold 2 Epoch 16/20, Loss: 1.7167072646980044\n",
      "New best model saved with loss: 1.7167072646980044\n"
     ]
    },
    {
     "name": "stderr",
     "output_type": "stream",
     "text": [
      "Fold 2 Epoch 17/20: 100%|██████████| 316/316 [02:06<00:00,  2.50batch/s, loss=1.6] \n"
     ]
    },
    {
     "name": "stdout",
     "output_type": "stream",
     "text": [
      "Fold 2 Epoch 17/20, Loss: 1.7158356467379798\n",
      "New best model saved with loss: 1.7158356467379798\n"
     ]
    },
    {
     "name": "stderr",
     "output_type": "stream",
     "text": [
      "Fold 2 Epoch 18/20: 100%|██████████| 316/316 [02:07<00:00,  2.48batch/s, loss=1.28]\n"
     ]
    },
    {
     "name": "stdout",
     "output_type": "stream",
     "text": [
      "Fold 2 Epoch 18/20, Loss: 1.7151032829586463\n",
      "New best model saved with loss: 1.7151032829586463\n"
     ]
    },
    {
     "name": "stderr",
     "output_type": "stream",
     "text": [
      "Fold 2 Epoch 19/20: 100%|██████████| 316/316 [02:07<00:00,  2.48batch/s, loss=1.76]\n"
     ]
    },
    {
     "name": "stdout",
     "output_type": "stream",
     "text": [
      "Fold 2 Epoch 19/20, Loss: 1.7157141287115556\n"
     ]
    },
    {
     "name": "stderr",
     "output_type": "stream",
     "text": [
      "Fold 2 Epoch 20/20: 100%|██████████| 316/316 [02:07<00:00,  2.49batch/s, loss=1.56]\n"
     ]
    },
    {
     "name": "stdout",
     "output_type": "stream",
     "text": [
      "Fold 2 Epoch 20/20, Loss: 1.7152266626871084\n"
     ]
    },
    {
     "name": "stderr",
     "output_type": "stream",
     "text": [
      "Some weights of Dinov2ForImageClassification were not initialized from the model checkpoint at facebook/dinov2-small and are newly initialized: ['classifier.bias', 'classifier.weight']\n",
      "You should probably TRAIN this model on a down-stream task to be able to use it for predictions and inference.\n"
     ]
    },
    {
     "name": "stdout",
     "output_type": "stream",
     "text": [
      "cuda\n",
      "Dinov2ForImageClassification(\n",
      "  (dinov2): Dinov2Model(\n",
      "    (embeddings): Dinov2Embeddings(\n",
      "      (patch_embeddings): Dinov2PatchEmbeddings(\n",
      "        (projection): Conv2d(3, 384, kernel_size=(14, 14), stride=(14, 14))\n",
      "      )\n",
      "      (dropout): Dropout(p=0.0, inplace=False)\n",
      "    )\n",
      "    (encoder): Dinov2Encoder(\n",
      "      (layer): ModuleList(\n",
      "        (0-11): 12 x Dinov2Layer(\n",
      "          (norm1): LayerNorm((384,), eps=1e-06, elementwise_affine=True)\n",
      "          (attention): Dinov2SdpaAttention(\n",
      "            (attention): Dinov2SdpaSelfAttention(\n",
      "              (query): Linear(in_features=384, out_features=384, bias=True)\n",
      "              (key): Linear(in_features=384, out_features=384, bias=True)\n",
      "              (value): Linear(in_features=384, out_features=384, bias=True)\n",
      "              (dropout): Dropout(p=0.0, inplace=False)\n",
      "            )\n",
      "            (output): Dinov2SelfOutput(\n",
      "              (dense): Linear(in_features=384, out_features=384, bias=True)\n",
      "              (dropout): Dropout(p=0.0, inplace=False)\n",
      "            )\n",
      "          )\n",
      "          (layer_scale1): Dinov2LayerScale()\n",
      "          (drop_path): Identity()\n",
      "          (norm2): LayerNorm((384,), eps=1e-06, elementwise_affine=True)\n",
      "          (mlp): Dinov2MLP(\n",
      "            (fc1): Linear(in_features=384, out_features=1536, bias=True)\n",
      "            (activation): GELUActivation()\n",
      "            (fc2): Linear(in_features=1536, out_features=384, bias=True)\n",
      "          )\n",
      "          (layer_scale2): Dinov2LayerScale()\n",
      "        )\n",
      "      )\n",
      "    )\n",
      "    (layernorm): LayerNorm((384,), eps=1e-06, elementwise_affine=True)\n",
      "  )\n",
      "  (classifier): Linear(in_features=768, out_features=18, bias=True)\n",
      ")\n"
     ]
    },
    {
     "name": "stderr",
     "output_type": "stream",
     "text": [
      "Fold 3 Epoch 1/20: 100%|██████████| 316/316 [02:08<00:00,  2.47batch/s, loss=1.7] \n"
     ]
    },
    {
     "name": "stdout",
     "output_type": "stream",
     "text": [
      "Fold 3 Epoch 1/20, Loss: 2.220404303149332\n",
      "New best model saved with loss: 2.220404303149332\n"
     ]
    },
    {
     "name": "stderr",
     "output_type": "stream",
     "text": [
      "Fold 3 Epoch 2/20: 100%|██████████| 316/316 [02:07<00:00,  2.48batch/s, loss=2.36]\n"
     ]
    },
    {
     "name": "stdout",
     "output_type": "stream",
     "text": [
      "Fold 3 Epoch 2/20, Loss: 2.0045212699642665\n",
      "New best model saved with loss: 2.0045212699642665\n"
     ]
    },
    {
     "name": "stderr",
     "output_type": "stream",
     "text": [
      "Fold 3 Epoch 3/20: 100%|██████████| 316/316 [02:06<00:00,  2.49batch/s, loss=1.76]\n"
     ]
    },
    {
     "name": "stdout",
     "output_type": "stream",
     "text": [
      "Fold 3 Epoch 3/20, Loss: 1.9695331401462797\n",
      "New best model saved with loss: 1.9695331401462797\n"
     ]
    },
    {
     "name": "stderr",
     "output_type": "stream",
     "text": [
      "Fold 3 Epoch 4/20: 100%|██████████| 316/316 [02:07<00:00,  2.48batch/s, loss=2.08]\n"
     ]
    },
    {
     "name": "stdout",
     "output_type": "stream",
     "text": [
      "Fold 3 Epoch 4/20, Loss: 1.9229548924331423\n",
      "New best model saved with loss: 1.9229548924331423\n"
     ]
    },
    {
     "name": "stderr",
     "output_type": "stream",
     "text": [
      "Fold 3 Epoch 5/20: 100%|██████████| 316/316 [02:07<00:00,  2.47batch/s, loss=1.88]\n"
     ]
    },
    {
     "name": "stdout",
     "output_type": "stream",
     "text": [
      "Fold 3 Epoch 5/20, Loss: 1.8895020496241655\n",
      "New best model saved with loss: 1.8895020496241655\n"
     ]
    },
    {
     "name": "stderr",
     "output_type": "stream",
     "text": [
      "Fold 3 Epoch 6/20: 100%|██████████| 316/316 [02:06<00:00,  2.49batch/s, loss=2.08]\n"
     ]
    },
    {
     "name": "stdout",
     "output_type": "stream",
     "text": [
      "Fold 3 Epoch 6/20, Loss: 1.8020342746867408\n",
      "New best model saved with loss: 1.8020342746867408\n"
     ]
    },
    {
     "name": "stderr",
     "output_type": "stream",
     "text": [
      "Fold 3 Epoch 7/20: 100%|██████████| 316/316 [02:05<00:00,  2.51batch/s, loss=1.62]\n"
     ]
    },
    {
     "name": "stdout",
     "output_type": "stream",
     "text": [
      "Fold 3 Epoch 7/20, Loss: 1.7784709047667588\n",
      "New best model saved with loss: 1.7784709047667588\n"
     ]
    },
    {
     "name": "stderr",
     "output_type": "stream",
     "text": [
      "Fold 3 Epoch 8/20: 100%|██████████| 316/316 [02:06<00:00,  2.51batch/s, loss=1.99]\n"
     ]
    },
    {
     "name": "stdout",
     "output_type": "stream",
     "text": [
      "Fold 3 Epoch 8/20, Loss: 1.7671818714353102\n",
      "New best model saved with loss: 1.7671818714353102\n"
     ]
    },
    {
     "name": "stderr",
     "output_type": "stream",
     "text": [
      "Fold 3 Epoch 9/20: 100%|██████████| 316/316 [02:06<00:00,  2.49batch/s, loss=1.47]\n"
     ]
    },
    {
     "name": "stdout",
     "output_type": "stream",
     "text": [
      "Fold 3 Epoch 9/20, Loss: 1.7606347640858422\n",
      "New best model saved with loss: 1.7606347640858422\n"
     ]
    },
    {
     "name": "stderr",
     "output_type": "stream",
     "text": [
      "Fold 3 Epoch 10/20: 100%|██████████| 316/316 [02:07<00:00,  2.49batch/s, loss=1.96]\n"
     ]
    },
    {
     "name": "stdout",
     "output_type": "stream",
     "text": [
      "Fold 3 Epoch 10/20, Loss: 1.7501696778249136\n",
      "New best model saved with loss: 1.7501696778249136\n"
     ]
    },
    {
     "name": "stderr",
     "output_type": "stream",
     "text": [
      "Fold 3 Epoch 11/20: 100%|██████████| 316/316 [02:06<00:00,  2.50batch/s, loss=1.78]\n"
     ]
    },
    {
     "name": "stdout",
     "output_type": "stream",
     "text": [
      "Fold 3 Epoch 11/20, Loss: 1.728519633223739\n",
      "New best model saved with loss: 1.728519633223739\n"
     ]
    },
    {
     "name": "stderr",
     "output_type": "stream",
     "text": [
      "Fold 3 Epoch 12/20: 100%|██████████| 316/316 [02:07<00:00,  2.47batch/s, loss=2.05]\n"
     ]
    },
    {
     "name": "stdout",
     "output_type": "stream",
     "text": [
      "Fold 3 Epoch 12/20, Loss: 1.7252451966080484\n",
      "New best model saved with loss: 1.7252451966080484\n"
     ]
    },
    {
     "name": "stderr",
     "output_type": "stream",
     "text": [
      "Fold 3 Epoch 13/20: 100%|██████████| 316/316 [02:07<00:00,  2.48batch/s, loss=2.04]\n"
     ]
    },
    {
     "name": "stdout",
     "output_type": "stream",
     "text": [
      "Fold 3 Epoch 13/20, Loss: 1.723184877181355\n",
      "New best model saved with loss: 1.723184877181355\n"
     ]
    },
    {
     "name": "stderr",
     "output_type": "stream",
     "text": [
      "Fold 3 Epoch 14/20: 100%|██████████| 316/316 [02:07<00:00,  2.48batch/s, loss=1.9] \n"
     ]
    },
    {
     "name": "stdout",
     "output_type": "stream",
     "text": [
      "Fold 3 Epoch 14/20, Loss: 1.7216083328180676\n",
      "New best model saved with loss: 1.7216083328180676\n"
     ]
    },
    {
     "name": "stderr",
     "output_type": "stream",
     "text": [
      "Fold 3 Epoch 15/20: 100%|██████████| 316/316 [02:06<00:00,  2.49batch/s, loss=1.7] \n"
     ]
    },
    {
     "name": "stdout",
     "output_type": "stream",
     "text": [
      "Fold 3 Epoch 15/20, Loss: 1.7200413972516604\n",
      "New best model saved with loss: 1.7200413972516604\n"
     ]
    },
    {
     "name": "stderr",
     "output_type": "stream",
     "text": [
      "Fold 3 Epoch 16/20: 100%|██████████| 316/316 [02:05<00:00,  2.51batch/s, loss=1.58]\n"
     ]
    },
    {
     "name": "stdout",
     "output_type": "stream",
     "text": [
      "Fold 3 Epoch 16/20, Loss: 1.716577246219297\n",
      "New best model saved with loss: 1.716577246219297\n"
     ]
    },
    {
     "name": "stderr",
     "output_type": "stream",
     "text": [
      "Fold 3 Epoch 17/20: 100%|██████████| 316/316 [02:07<00:00,  2.49batch/s, loss=1.94]\n"
     ]
    },
    {
     "name": "stdout",
     "output_type": "stream",
     "text": [
      "Fold 3 Epoch 17/20, Loss: 1.716556528701058\n",
      "New best model saved with loss: 1.716556528701058\n"
     ]
    },
    {
     "name": "stderr",
     "output_type": "stream",
     "text": [
      "Fold 3 Epoch 18/20: 100%|██████████| 316/316 [02:07<00:00,  2.48batch/s, loss=1.58]\n"
     ]
    },
    {
     "name": "stdout",
     "output_type": "stream",
     "text": [
      "Fold 3 Epoch 18/20, Loss: 1.7158358779889118\n",
      "New best model saved with loss: 1.7158358779889118\n"
     ]
    },
    {
     "name": "stderr",
     "output_type": "stream",
     "text": [
      "Fold 3 Epoch 19/20: 100%|██████████| 316/316 [02:05<00:00,  2.51batch/s, loss=1.71]\n"
     ]
    },
    {
     "name": "stdout",
     "output_type": "stream",
     "text": [
      "Fold 3 Epoch 19/20, Loss: 1.7158149394053448\n",
      "New best model saved with loss: 1.7158149394053448\n"
     ]
    },
    {
     "name": "stderr",
     "output_type": "stream",
     "text": [
      "Fold 3 Epoch 20/20: 100%|██████████| 316/316 [02:07<00:00,  2.49batch/s, loss=1.8] \n"
     ]
    },
    {
     "name": "stdout",
     "output_type": "stream",
     "text": [
      "Fold 3 Epoch 20/20, Loss: 1.7157087480720086\n",
      "New best model saved with loss: 1.7157087480720086\n"
     ]
    },
    {
     "name": "stderr",
     "output_type": "stream",
     "text": [
      "Some weights of Dinov2ForImageClassification were not initialized from the model checkpoint at facebook/dinov2-small and are newly initialized: ['classifier.bias', 'classifier.weight']\n",
      "You should probably TRAIN this model on a down-stream task to be able to use it for predictions and inference.\n"
     ]
    },
    {
     "name": "stdout",
     "output_type": "stream",
     "text": [
      "cuda\n",
      "Dinov2ForImageClassification(\n",
      "  (dinov2): Dinov2Model(\n",
      "    (embeddings): Dinov2Embeddings(\n",
      "      (patch_embeddings): Dinov2PatchEmbeddings(\n",
      "        (projection): Conv2d(3, 384, kernel_size=(14, 14), stride=(14, 14))\n",
      "      )\n",
      "      (dropout): Dropout(p=0.0, inplace=False)\n",
      "    )\n",
      "    (encoder): Dinov2Encoder(\n",
      "      (layer): ModuleList(\n",
      "        (0-11): 12 x Dinov2Layer(\n",
      "          (norm1): LayerNorm((384,), eps=1e-06, elementwise_affine=True)\n",
      "          (attention): Dinov2SdpaAttention(\n",
      "            (attention): Dinov2SdpaSelfAttention(\n",
      "              (query): Linear(in_features=384, out_features=384, bias=True)\n",
      "              (key): Linear(in_features=384, out_features=384, bias=True)\n",
      "              (value): Linear(in_features=384, out_features=384, bias=True)\n",
      "              (dropout): Dropout(p=0.0, inplace=False)\n",
      "            )\n",
      "            (output): Dinov2SelfOutput(\n",
      "              (dense): Linear(in_features=384, out_features=384, bias=True)\n",
      "              (dropout): Dropout(p=0.0, inplace=False)\n",
      "            )\n",
      "          )\n",
      "          (layer_scale1): Dinov2LayerScale()\n",
      "          (drop_path): Identity()\n",
      "          (norm2): LayerNorm((384,), eps=1e-06, elementwise_affine=True)\n",
      "          (mlp): Dinov2MLP(\n",
      "            (fc1): Linear(in_features=384, out_features=1536, bias=True)\n",
      "            (activation): GELUActivation()\n",
      "            (fc2): Linear(in_features=1536, out_features=384, bias=True)\n",
      "          )\n",
      "          (layer_scale2): Dinov2LayerScale()\n",
      "        )\n",
      "      )\n",
      "    )\n",
      "    (layernorm): LayerNorm((384,), eps=1e-06, elementwise_affine=True)\n",
      "  )\n",
      "  (classifier): Linear(in_features=768, out_features=18, bias=True)\n",
      ")\n"
     ]
    },
    {
     "name": "stderr",
     "output_type": "stream",
     "text": [
      "Fold 4 Epoch 1/20: 100%|██████████| 316/316 [02:07<00:00,  2.48batch/s, loss=1.97]\n"
     ]
    },
    {
     "name": "stdout",
     "output_type": "stream",
     "text": [
      "Fold 4 Epoch 1/20, Loss: 2.3414016875285135\n",
      "New best model saved with loss: 2.3414016875285135\n"
     ]
    },
    {
     "name": "stderr",
     "output_type": "stream",
     "text": [
      "Fold 4 Epoch 2/20: 100%|██████████| 316/316 [02:06<00:00,  2.50batch/s, loss=1.87]\n"
     ]
    },
    {
     "name": "stdout",
     "output_type": "stream",
     "text": [
      "Fold 4 Epoch 2/20, Loss: 2.028745460359356\n",
      "New best model saved with loss: 2.028745460359356\n"
     ]
    },
    {
     "name": "stderr",
     "output_type": "stream",
     "text": [
      "Fold 4 Epoch 3/20: 100%|██████████| 316/316 [02:06<00:00,  2.50batch/s, loss=2.09]\n"
     ]
    },
    {
     "name": "stdout",
     "output_type": "stream",
     "text": [
      "Fold 4 Epoch 3/20, Loss: 1.9688701271256315\n",
      "New best model saved with loss: 1.9688701271256315\n"
     ]
    },
    {
     "name": "stderr",
     "output_type": "stream",
     "text": [
      "Fold 4 Epoch 4/20: 100%|██████████| 316/316 [02:06<00:00,  2.49batch/s, loss=1.9] \n"
     ]
    },
    {
     "name": "stdout",
     "output_type": "stream",
     "text": [
      "Fold 4 Epoch 4/20, Loss: 1.9464160283155079\n",
      "New best model saved with loss: 1.9464160283155079\n"
     ]
    },
    {
     "name": "stderr",
     "output_type": "stream",
     "text": [
      "Fold 4 Epoch 5/20: 100%|██████████| 316/316 [02:07<00:00,  2.48batch/s, loss=1.83]\n"
     ]
    },
    {
     "name": "stdout",
     "output_type": "stream",
     "text": [
      "Fold 4 Epoch 5/20, Loss: 1.9136802893650682\n",
      "New best model saved with loss: 1.9136802893650682\n"
     ]
    },
    {
     "name": "stderr",
     "output_type": "stream",
     "text": [
      "Fold 4 Epoch 6/20: 100%|██████████| 316/316 [02:07<00:00,  2.48batch/s, loss=1.73]\n"
     ]
    },
    {
     "name": "stdout",
     "output_type": "stream",
     "text": [
      "Fold 4 Epoch 6/20, Loss: 1.8080561153496368\n",
      "New best model saved with loss: 1.8080561153496368\n"
     ]
    },
    {
     "name": "stderr",
     "output_type": "stream",
     "text": [
      "Fold 4 Epoch 7/20: 100%|██████████| 316/316 [02:07<00:00,  2.49batch/s, loss=1.7] \n"
     ]
    },
    {
     "name": "stdout",
     "output_type": "stream",
     "text": [
      "Fold 4 Epoch 7/20, Loss: 1.7847934546349924\n",
      "New best model saved with loss: 1.7847934546349924\n"
     ]
    },
    {
     "name": "stderr",
     "output_type": "stream",
     "text": [
      "Fold 4 Epoch 8/20: 100%|██████████| 316/316 [02:06<00:00,  2.49batch/s, loss=1.61]\n"
     ]
    },
    {
     "name": "stdout",
     "output_type": "stream",
     "text": [
      "Fold 4 Epoch 8/20, Loss: 1.77298237741748\n",
      "New best model saved with loss: 1.77298237741748\n"
     ]
    },
    {
     "name": "stderr",
     "output_type": "stream",
     "text": [
      "Fold 4 Epoch 9/20: 100%|██████████| 316/316 [02:06<00:00,  2.50batch/s, loss=1.83]\n"
     ]
    },
    {
     "name": "stdout",
     "output_type": "stream",
     "text": [
      "Fold 4 Epoch 9/20, Loss: 1.7601166552380672\n",
      "New best model saved with loss: 1.7601166552380672\n"
     ]
    },
    {
     "name": "stderr",
     "output_type": "stream",
     "text": [
      "Fold 4 Epoch 10/20: 100%|██████████| 316/316 [02:07<00:00,  2.49batch/s, loss=1.69]\n"
     ]
    },
    {
     "name": "stdout",
     "output_type": "stream",
     "text": [
      "Fold 4 Epoch 10/20, Loss: 1.7507553689087494\n",
      "New best model saved with loss: 1.7507553689087494\n"
     ]
    },
    {
     "name": "stderr",
     "output_type": "stream",
     "text": [
      "Fold 4 Epoch 11/20: 100%|██████████| 316/316 [02:04<00:00,  2.53batch/s, loss=1.97]\n"
     ]
    },
    {
     "name": "stdout",
     "output_type": "stream",
     "text": [
      "Fold 4 Epoch 11/20, Loss: 1.7306994995738887\n",
      "New best model saved with loss: 1.7306994995738887\n"
     ]
    },
    {
     "name": "stderr",
     "output_type": "stream",
     "text": [
      "Fold 4 Epoch 12/20: 100%|██████████| 316/316 [02:05<00:00,  2.51batch/s, loss=2.03]\n"
     ]
    },
    {
     "name": "stdout",
     "output_type": "stream",
     "text": [
      "Fold 4 Epoch 12/20, Loss: 1.7273690794842154\n",
      "New best model saved with loss: 1.7273690794842154\n"
     ]
    },
    {
     "name": "stderr",
     "output_type": "stream",
     "text": [
      "Fold 4 Epoch 13/20: 100%|██████████| 316/316 [02:06<00:00,  2.50batch/s, loss=1.59]\n"
     ]
    },
    {
     "name": "stdout",
     "output_type": "stream",
     "text": [
      "Fold 4 Epoch 13/20, Loss: 1.724833672559714\n",
      "New best model saved with loss: 1.724833672559714\n"
     ]
    },
    {
     "name": "stderr",
     "output_type": "stream",
     "text": [
      "Fold 4 Epoch 14/20: 100%|██████████| 316/316 [02:06<00:00,  2.51batch/s, loss=1.35]\n"
     ]
    },
    {
     "name": "stdout",
     "output_type": "stream",
     "text": [
      "Fold 4 Epoch 14/20, Loss: 1.7234142324592494\n",
      "New best model saved with loss: 1.7234142324592494\n"
     ]
    },
    {
     "name": "stderr",
     "output_type": "stream",
     "text": [
      "Fold 4 Epoch 15/20: 100%|██████████| 316/316 [02:06<00:00,  2.51batch/s, loss=1.64]\n"
     ]
    },
    {
     "name": "stdout",
     "output_type": "stream",
     "text": [
      "Fold 4 Epoch 15/20, Loss: 1.722093550464775\n",
      "New best model saved with loss: 1.722093550464775\n"
     ]
    },
    {
     "name": "stderr",
     "output_type": "stream",
     "text": [
      "Fold 4 Epoch 16/20: 100%|██████████| 316/316 [02:05<00:00,  2.52batch/s, loss=1.49] \n"
     ]
    },
    {
     "name": "stdout",
     "output_type": "stream",
     "text": [
      "Fold 4 Epoch 16/20, Loss: 1.7188582352445096\n",
      "New best model saved with loss: 1.7188582352445096\n"
     ]
    },
    {
     "name": "stderr",
     "output_type": "stream",
     "text": [
      "Fold 4 Epoch 17/20: 100%|██████████| 316/316 [02:05<00:00,  2.51batch/s, loss=1.91]\n"
     ]
    },
    {
     "name": "stdout",
     "output_type": "stream",
     "text": [
      "Fold 4 Epoch 17/20, Loss: 1.7188928259324423\n"
     ]
    },
    {
     "name": "stderr",
     "output_type": "stream",
     "text": [
      "Fold 4 Epoch 18/20: 100%|██████████| 316/316 [02:05<00:00,  2.52batch/s, loss=1.92]\n"
     ]
    },
    {
     "name": "stdout",
     "output_type": "stream",
     "text": [
      "Fold 4 Epoch 18/20, Loss: 1.7187406699868697\n",
      "New best model saved with loss: 1.7187406699868697\n"
     ]
    },
    {
     "name": "stderr",
     "output_type": "stream",
     "text": [
      "Fold 4 Epoch 19/20: 100%|██████████| 316/316 [02:05<00:00,  2.51batch/s, loss=1.88]\n"
     ]
    },
    {
     "name": "stdout",
     "output_type": "stream",
     "text": [
      "Fold 4 Epoch 19/20, Loss: 1.7185485042348694\n",
      "New best model saved with loss: 1.7185485042348694\n"
     ]
    },
    {
     "name": "stderr",
     "output_type": "stream",
     "text": [
      "Fold 4 Epoch 20/20: 100%|██████████| 316/316 [02:05<00:00,  2.52batch/s, loss=1.67]\n"
     ]
    },
    {
     "name": "stdout",
     "output_type": "stream",
     "text": [
      "Fold 4 Epoch 20/20, Loss: 1.7182461977759493\n",
      "New best model saved with loss: 1.7182461977759493\n"
     ]
    },
    {
     "name": "stderr",
     "output_type": "stream",
     "text": [
      "Some weights of Dinov2ForImageClassification were not initialized from the model checkpoint at facebook/dinov2-small and are newly initialized: ['classifier.bias', 'classifier.weight']\n",
      "You should probably TRAIN this model on a down-stream task to be able to use it for predictions and inference.\n"
     ]
    },
    {
     "name": "stdout",
     "output_type": "stream",
     "text": [
      "cuda\n",
      "Dinov2ForImageClassification(\n",
      "  (dinov2): Dinov2Model(\n",
      "    (embeddings): Dinov2Embeddings(\n",
      "      (patch_embeddings): Dinov2PatchEmbeddings(\n",
      "        (projection): Conv2d(3, 384, kernel_size=(14, 14), stride=(14, 14))\n",
      "      )\n",
      "      (dropout): Dropout(p=0.0, inplace=False)\n",
      "    )\n",
      "    (encoder): Dinov2Encoder(\n",
      "      (layer): ModuleList(\n",
      "        (0-11): 12 x Dinov2Layer(\n",
      "          (norm1): LayerNorm((384,), eps=1e-06, elementwise_affine=True)\n",
      "          (attention): Dinov2SdpaAttention(\n",
      "            (attention): Dinov2SdpaSelfAttention(\n",
      "              (query): Linear(in_features=384, out_features=384, bias=True)\n",
      "              (key): Linear(in_features=384, out_features=384, bias=True)\n",
      "              (value): Linear(in_features=384, out_features=384, bias=True)\n",
      "              (dropout): Dropout(p=0.0, inplace=False)\n",
      "            )\n",
      "            (output): Dinov2SelfOutput(\n",
      "              (dense): Linear(in_features=384, out_features=384, bias=True)\n",
      "              (dropout): Dropout(p=0.0, inplace=False)\n",
      "            )\n",
      "          )\n",
      "          (layer_scale1): Dinov2LayerScale()\n",
      "          (drop_path): Identity()\n",
      "          (norm2): LayerNorm((384,), eps=1e-06, elementwise_affine=True)\n",
      "          (mlp): Dinov2MLP(\n",
      "            (fc1): Linear(in_features=384, out_features=1536, bias=True)\n",
      "            (activation): GELUActivation()\n",
      "            (fc2): Linear(in_features=1536, out_features=384, bias=True)\n",
      "          )\n",
      "          (layer_scale2): Dinov2LayerScale()\n",
      "        )\n",
      "      )\n",
      "    )\n",
      "    (layernorm): LayerNorm((384,), eps=1e-06, elementwise_affine=True)\n",
      "  )\n",
      "  (classifier): Linear(in_features=768, out_features=18, bias=True)\n",
      ")\n"
     ]
    },
    {
     "name": "stderr",
     "output_type": "stream",
     "text": [
      "Fold 5 Epoch 1/20: 100%|██████████| 316/316 [02:05<00:00,  2.52batch/s, loss=1.87]\n"
     ]
    },
    {
     "name": "stdout",
     "output_type": "stream",
     "text": [
      "Fold 5 Epoch 1/20, Loss: 2.3084834802754317\n",
      "New best model saved with loss: 2.3084834802754317\n"
     ]
    },
    {
     "name": "stderr",
     "output_type": "stream",
     "text": [
      "Fold 5 Epoch 2/20: 100%|██████████| 316/316 [02:05<00:00,  2.51batch/s, loss=1.9] \n"
     ]
    },
    {
     "name": "stdout",
     "output_type": "stream",
     "text": [
      "Fold 5 Epoch 2/20, Loss: 2.0070327622226523\n",
      "New best model saved with loss: 2.0070327622226523\n"
     ]
    },
    {
     "name": "stderr",
     "output_type": "stream",
     "text": [
      "Fold 5 Epoch 3/20: 100%|██████████| 316/316 [02:05<00:00,  2.52batch/s, loss=2.13]\n"
     ]
    },
    {
     "name": "stdout",
     "output_type": "stream",
     "text": [
      "Fold 5 Epoch 3/20, Loss: 1.9759608141229124\n",
      "New best model saved with loss: 1.9759608141229124\n"
     ]
    },
    {
     "name": "stderr",
     "output_type": "stream",
     "text": [
      "Fold 5 Epoch 4/20: 100%|██████████| 316/316 [02:05<00:00,  2.51batch/s, loss=1.76]\n"
     ]
    },
    {
     "name": "stdout",
     "output_type": "stream",
     "text": [
      "Fold 5 Epoch 4/20, Loss: 1.933994696864599\n",
      "New best model saved with loss: 1.933994696864599\n"
     ]
    },
    {
     "name": "stderr",
     "output_type": "stream",
     "text": [
      "Fold 5 Epoch 5/20: 100%|██████████| 316/316 [02:05<00:00,  2.52batch/s, loss=2.03]\n"
     ]
    },
    {
     "name": "stdout",
     "output_type": "stream",
     "text": [
      "Fold 5 Epoch 5/20, Loss: 1.9151026018058197\n",
      "New best model saved with loss: 1.9151026018058197\n"
     ]
    },
    {
     "name": "stderr",
     "output_type": "stream",
     "text": [
      "Fold 5 Epoch 6/20: 100%|██████████| 316/316 [02:05<00:00,  2.52batch/s, loss=1.69]\n"
     ]
    },
    {
     "name": "stdout",
     "output_type": "stream",
     "text": [
      "Fold 5 Epoch 6/20, Loss: 1.8080909172945385\n",
      "New best model saved with loss: 1.8080909172945385\n"
     ]
    },
    {
     "name": "stderr",
     "output_type": "stream",
     "text": [
      "Fold 5 Epoch 7/20: 100%|██████████| 316/316 [02:05<00:00,  2.51batch/s, loss=1.67]\n"
     ]
    },
    {
     "name": "stdout",
     "output_type": "stream",
     "text": [
      "Fold 5 Epoch 7/20, Loss: 1.785421830943868\n",
      "New best model saved with loss: 1.785421830943868\n"
     ]
    },
    {
     "name": "stderr",
     "output_type": "stream",
     "text": [
      "Fold 5 Epoch 8/20: 100%|██████████| 316/316 [02:05<00:00,  2.52batch/s, loss=1.91]\n"
     ]
    },
    {
     "name": "stdout",
     "output_type": "stream",
     "text": [
      "Fold 5 Epoch 8/20, Loss: 1.7750940926467316\n",
      "New best model saved with loss: 1.7750940926467316\n"
     ]
    },
    {
     "name": "stderr",
     "output_type": "stream",
     "text": [
      "Fold 5 Epoch 9/20: 100%|██████████| 316/316 [02:06<00:00,  2.51batch/s, loss=1.83]\n"
     ]
    },
    {
     "name": "stdout",
     "output_type": "stream",
     "text": [
      "Fold 5 Epoch 9/20, Loss: 1.7660945736909215\n",
      "New best model saved with loss: 1.7660945736909215\n"
     ]
    },
    {
     "name": "stderr",
     "output_type": "stream",
     "text": [
      "Fold 5 Epoch 10/20: 100%|██████████| 316/316 [02:05<00:00,  2.51batch/s, loss=1.5] \n"
     ]
    },
    {
     "name": "stdout",
     "output_type": "stream",
     "text": [
      "Fold 5 Epoch 10/20, Loss: 1.75874834196477\n",
      "New best model saved with loss: 1.75874834196477\n"
     ]
    },
    {
     "name": "stderr",
     "output_type": "stream",
     "text": [
      "Fold 5 Epoch 11/20: 100%|██████████| 316/316 [02:05<00:00,  2.51batch/s, loss=1.92]\n"
     ]
    },
    {
     "name": "stdout",
     "output_type": "stream",
     "text": [
      "Fold 5 Epoch 11/20, Loss: 1.7400009168099753\n",
      "New best model saved with loss: 1.7400009168099753\n"
     ]
    },
    {
     "name": "stderr",
     "output_type": "stream",
     "text": [
      "Fold 5 Epoch 12/20: 100%|██████████| 316/316 [02:04<00:00,  2.53batch/s, loss=1.75]\n"
     ]
    },
    {
     "name": "stdout",
     "output_type": "stream",
     "text": [
      "Fold 5 Epoch 12/20, Loss: 1.7356485626365565\n",
      "New best model saved with loss: 1.7356485626365565\n"
     ]
    },
    {
     "name": "stderr",
     "output_type": "stream",
     "text": [
      "Fold 5 Epoch 13/20: 100%|██████████| 316/316 [02:05<00:00,  2.52batch/s, loss=1.85]\n"
     ]
    },
    {
     "name": "stdout",
     "output_type": "stream",
     "text": [
      "Fold 5 Epoch 13/20, Loss: 1.733198900388766\n",
      "New best model saved with loss: 1.733198900388766\n"
     ]
    },
    {
     "name": "stderr",
     "output_type": "stream",
     "text": [
      "Fold 5 Epoch 14/20: 100%|██████████| 316/316 [02:05<00:00,  2.53batch/s, loss=1.83]\n"
     ]
    },
    {
     "name": "stdout",
     "output_type": "stream",
     "text": [
      "Fold 5 Epoch 14/20, Loss: 1.732127771347384\n",
      "New best model saved with loss: 1.732127771347384\n"
     ]
    },
    {
     "name": "stderr",
     "output_type": "stream",
     "text": [
      "Fold 5 Epoch 15/20: 100%|██████████| 316/316 [02:05<00:00,  2.51batch/s, loss=1.85]\n"
     ]
    },
    {
     "name": "stdout",
     "output_type": "stream",
     "text": [
      "Fold 5 Epoch 15/20, Loss: 1.7305447715747206\n",
      "New best model saved with loss: 1.7305447715747206\n"
     ]
    },
    {
     "name": "stderr",
     "output_type": "stream",
     "text": [
      "Fold 5 Epoch 16/20: 100%|██████████| 316/316 [02:03<00:00,  2.55batch/s, loss=1.4] \n"
     ]
    },
    {
     "name": "stdout",
     "output_type": "stream",
     "text": [
      "Fold 5 Epoch 16/20, Loss: 1.7274477991122235\n",
      "New best model saved with loss: 1.7274477991122235\n"
     ]
    },
    {
     "name": "stderr",
     "output_type": "stream",
     "text": [
      "Fold 5 Epoch 17/20: 100%|██████████| 316/316 [02:05<00:00,  2.52batch/s, loss=1.74]\n"
     ]
    },
    {
     "name": "stdout",
     "output_type": "stream",
     "text": [
      "Fold 5 Epoch 17/20, Loss: 1.7271366772017902\n",
      "New best model saved with loss: 1.7271366772017902\n"
     ]
    },
    {
     "name": "stderr",
     "output_type": "stream",
     "text": [
      "Fold 5 Epoch 18/20: 100%|██████████| 316/316 [02:05<00:00,  2.52batch/s, loss=1.71]\n"
     ]
    },
    {
     "name": "stdout",
     "output_type": "stream",
     "text": [
      "Fold 5 Epoch 18/20, Loss: 1.7269543352760846\n",
      "New best model saved with loss: 1.7269543352760846\n"
     ]
    },
    {
     "name": "stderr",
     "output_type": "stream",
     "text": [
      "Fold 5 Epoch 19/20: 100%|██████████| 316/316 [02:04<00:00,  2.54batch/s, loss=1.72]\n"
     ]
    },
    {
     "name": "stdout",
     "output_type": "stream",
     "text": [
      "Fold 5 Epoch 19/20, Loss: 1.726732172166245\n",
      "New best model saved with loss: 1.726732172166245\n"
     ]
    },
    {
     "name": "stderr",
     "output_type": "stream",
     "text": [
      "Fold 5 Epoch 20/20: 100%|██████████| 316/316 [02:05<00:00,  2.51batch/s, loss=1.73]\n"
     ]
    },
    {
     "name": "stdout",
     "output_type": "stream",
     "text": [
      "Fold 5 Epoch 20/20, Loss: 1.7266244586509993\n",
      "New best model saved with loss: 1.7266244586509993\n"
     ]
    },
    {
     "name": "stderr",
     "output_type": "stream",
     "text": [
      "Some weights of Dinov2ForImageClassification were not initialized from the model checkpoint at facebook/dinov2-small and are newly initialized: ['classifier.bias', 'classifier.weight']\n",
      "You should probably TRAIN this model on a down-stream task to be able to use it for predictions and inference.\n",
      "/tmp/ipykernel_1482/3905504083.py:72: FutureWarning: You are using `torch.load` with `weights_only=False` (the current default value), which uses the default pickle module implicitly. It is possible to construct malicious pickle data which will execute arbitrary code during unpickling (See https://github.com/pytorch/pytorch/blob/main/SECURITY.md#untrusted-models for more details). In a future release, the default value for `weights_only` will be flipped to `True`. This limits the functions that could be executed during unpickling. Arbitrary objects will no longer be allowed to be loaded via this mode unless they are explicitly allowlisted by the user via `torch.serialization.add_safe_globals`. We recommend you start setting `weights_only=True` for any use case where you don't have full control of the loaded file. Please open an issue on GitHub for any issues related to this experimental feature.\n",
      "  model.load_state_dict(torch.load(model_path))\n"
     ]
    },
    {
     "name": "stdout",
     "output_type": "stream",
     "text": [
      "Fold 1 Confusion Matrix:\n",
      "[[ 51   0   8   0   0   0 105   0   0  65   0   0  41  25   0  12   0   0]\n",
      " [ 15   0   4   0   0   0  15   0   0  20   0   0  18  11   0   8   0   0]\n",
      " [  5   0  75   0   0   0  20   0   0  12   0   0   9   2   0  11  57   0]\n",
      " [  1   0   0   0   0   0   4   0   0   2   0   0   1   0   0   2   0   0]\n",
      " [  0   0   2   0   0   0   0   0   0   0   0   0   0   0   0   0  14   0]\n",
      " [  0   0   0   0   0   0   0   0   0   0   0   0   0   0   0   0  21   0]\n",
      " [ 49   0   9   0   0   0 187   0   0   4   0   0  17   2   0   2   1   0]\n",
      " [  0   0   0   0   0   0   1   0   2   0   0   0   0   0   0   0  73   0]\n",
      " [  0   0   1   0   0   0   0   0  19   0   0   0   0   0   0   0   2   0]\n",
      " [ 32   0   7   0   0   0  11   0   0 100   0   1  30  27   0  16   0   0]\n",
      " [  7   0   0   0   0   0   5   0   0   9   0   0   3  13   0   3   0   0]\n",
      " [  4   0  25   0   0   0  13   0   0  12   0   0   7   0   0   4   6   0]\n",
      " [ 40   0   8   0   0   0  39   0   0  53   0   0  62  11   0  17   0   0]\n",
      " [ 43   0   4   0   0   0  11   0   0  60   0   0  23  26   0  19   0   0]\n",
      " [  8   0   4   0   0   0   6   0   0  10   0   0   7   1   0   0   0   0]\n",
      " [ 30   0  13   0   0   0  42   0   0  34   0   0  26   9   0  17   0   0]\n",
      " [  0   0  32   0   0   0   5   0   1   3   0   3   0   0   0   1 410   0]\n",
      " [ 16   0   6   0   0   0   9   0   0  40   0   0  15  12   0   3   0   0]]\n",
      "{'AmorfHead': {'precision': 0.16943521594684385, 'recall': 0.16612377850162866, 'f1-score': 0.16776315789473684, 'support': 307.0}, 'AsymmetricNeck': {'precision': 0.0, 'recall': 0.0, 'f1-score': 0.0, 'support': 91.0}, 'CurlyTail': {'precision': 0.3787878787878788, 'recall': 0.39267015706806285, 'f1-score': 0.3856041131105398, 'support': 191.0}, 'DoubleHead': {'precision': 0.0, 'recall': 0.0, 'f1-score': 0.0, 'support': 10.0}, 'DoubleTail': {'precision': 0.0, 'recall': 0.0, 'f1-score': 0.0, 'support': 16.0}, 'LongTail': {'precision': 0.0, 'recall': 0.0, 'f1-score': 0.0, 'support': 21.0}, 'NarrowAcrosome': {'precision': 0.3953488372093023, 'recall': 0.6900369003690037, 'f1-score': 0.5026881720430108, 'support': 271.0}, 'Normal': {'precision': 0.0, 'recall': 0.0, 'f1-score': 0.0, 'support': 76.0}, 'PinHead': {'precision': 0.8636363636363636, 'recall': 0.8636363636363636, 'f1-score': 0.8636363636363636, 'support': 22.0}, 'PyriformHead': {'precision': 0.2358490566037736, 'recall': 0.44642857142857145, 'f1-score': 0.30864197530864196, 'support': 224.0}, 'RoundHead': {'precision': 0.0, 'recall': 0.0, 'f1-score': 0.0, 'support': 40.0}, 'ShortTail': {'precision': 0.0, 'recall': 0.0, 'f1-score': 0.0, 'support': 71.0}, 'TaperedHead': {'precision': 0.23938223938223938, 'recall': 0.26956521739130435, 'f1-score': 0.25357873210633947, 'support': 230.0}, 'ThickNeck': {'precision': 0.18705035971223022, 'recall': 0.13978494623655913, 'f1-score': 0.16, 'support': 186.0}, 'ThinNeck': {'precision': 0.0, 'recall': 0.0, 'f1-score': 0.0, 'support': 36.0}, 'TwistedNeck': {'precision': 0.14782608695652175, 'recall': 0.09941520467836257, 'f1-score': 0.11888111888111888, 'support': 171.0}, 'TwistedTail': {'precision': 0.702054794520548, 'recall': 0.9010989010989011, 'f1-score': 0.7892204042348412, 'support': 455.0}, 'VacuolatedHead': {'precision': 0.0, 'recall': 0.0, 'f1-score': 0.0, 'support': 101.0}, 'accuracy': 0.3759428344581183, 'macro avg': {'precision': 0.1844094907086501, 'recall': 0.22048666891159763, 'f1-score': 0.1972230020675329, 'support': 2519.0}, 'weighted avg': {'precision': 0.29293262963395655, 'recall': 0.3759428344581183, 'f1-score': 0.32434499238212433, 'support': 2519.0}}\n"
     ]
    },
    {
     "name": "stderr",
     "output_type": "stream",
     "text": [
      "/home/gurol/anaconda3/envs/araproje/lib/python3.13/site-packages/sklearn/metrics/_classification.py:1531: UndefinedMetricWarning: Precision is ill-defined and being set to 0.0 in labels with no predicted samples. Use `zero_division` parameter to control this behavior.\n",
      "  _warn_prf(average, modifier, f\"{metric.capitalize()} is\", len(result))\n",
      "/home/gurol/anaconda3/envs/araproje/lib/python3.13/site-packages/sklearn/metrics/_classification.py:1531: UndefinedMetricWarning: Precision is ill-defined and being set to 0.0 in labels with no predicted samples. Use `zero_division` parameter to control this behavior.\n",
      "  _warn_prf(average, modifier, f\"{metric.capitalize()} is\", len(result))\n",
      "/home/gurol/anaconda3/envs/araproje/lib/python3.13/site-packages/sklearn/metrics/_classification.py:1531: UndefinedMetricWarning: Precision is ill-defined and being set to 0.0 in labels with no predicted samples. Use `zero_division` parameter to control this behavior.\n",
      "  _warn_prf(average, modifier, f\"{metric.capitalize()} is\", len(result))\n",
      "Some weights of Dinov2ForImageClassification were not initialized from the model checkpoint at facebook/dinov2-small and are newly initialized: ['classifier.bias', 'classifier.weight']\n",
      "You should probably TRAIN this model on a down-stream task to be able to use it for predictions and inference.\n",
      "/tmp/ipykernel_1482/3905504083.py:72: FutureWarning: You are using `torch.load` with `weights_only=False` (the current default value), which uses the default pickle module implicitly. It is possible to construct malicious pickle data which will execute arbitrary code during unpickling (See https://github.com/pytorch/pytorch/blob/main/SECURITY.md#untrusted-models for more details). In a future release, the default value for `weights_only` will be flipped to `True`. This limits the functions that could be executed during unpickling. Arbitrary objects will no longer be allowed to be loaded via this mode unless they are explicitly allowlisted by the user via `torch.serialization.add_safe_globals`. We recommend you start setting `weights_only=True` for any use case where you don't have full control of the loaded file. Please open an issue on GitHub for any issues related to this experimental feature.\n",
      "  model.load_state_dict(torch.load(model_path))\n"
     ]
    },
    {
     "name": "stdout",
     "output_type": "stream",
     "text": [
      "Fold 2 Confusion Matrix:\n",
      "[[ 54   0  12   0   0   0  99   0   0  53   0   0  54  17   0  18   0   1]\n",
      " [ 13   0   8   0   0   0  15   0   0  26   0   0  15   8   0   7   0   0]\n",
      " [  2   0  71   0   0   0  15   0   0  24   0   0  18   0   0   7  54   0]\n",
      " [  1   0   0   0   0   0   6   0   0   1   0   0   2   0   0   1   0   0]\n",
      " [  0   0   3   0   0   0   0   0   0   0   0   0   0   0   0   0  14   0]\n",
      " [  0   0   0   0   0   0   0   0   1   0   0   0   0   0   0   0  21   0]\n",
      " [ 42   0   7   0   0   0 185   0   0   2   0   0  31   0   0   4   0   0]\n",
      " [  0   0   6   0   0   0   0   0   0   0   0   0   0   0   0   0  71   0]\n",
      " [  0   0   0   0   0   0   0   0  22   0   0   0   0   0   0   0   2   0]\n",
      " [ 15   0   7   0   0   0  13   0   1 123   1   0  40  15   0   9   1   0]\n",
      " [  3   0   1   0   0   0   5   0   0  21   0   0   7   1   0   3   0   0]\n",
      " [  4   0  21   0   0   0  14   0   0   7   0   0  11   1   0   5   9   0]\n",
      " [ 32   0  15   0   0   0  45   0   0  52   0   0  64  13   0   9   0   0]\n",
      " [ 30   0   1   0   0   0   4   0   0  82   0   0  37  27   0   6   0   0]\n",
      " [  5   0   2   0   0   0   6   0   0  16   0   0   4   0   0   2   1   0]\n",
      " [ 25   0  15   0   0   0  24   0   0  53   0   0  15   9   0  29   1   0]\n",
      " [  0   0  39   0   0   0   2   0   5   4   0   0   3   0   0   3 400   0]\n",
      " [ 11   0   8   0   0   0   6   0   0  47   0   0  18   3   0   9   0   0]]\n",
      "{'AmorfHead': {'precision': 0.22784810126582278, 'recall': 0.17532467532467533, 'f1-score': 0.1981651376146789, 'support': 308.0}, 'AsymmetricNeck': {'precision': 0.0, 'recall': 0.0, 'f1-score': 0.0, 'support': 92.0}, 'CurlyTail': {'precision': 0.3287037037037037, 'recall': 0.3717277486910995, 'f1-score': 0.3488943488943489, 'support': 191.0}, 'DoubleHead': {'precision': 0.0, 'recall': 0.0, 'f1-score': 0.0, 'support': 11.0}, 'DoubleTail': {'precision': 0.0, 'recall': 0.0, 'f1-score': 0.0, 'support': 17.0}, 'LongTail': {'precision': 0.0, 'recall': 0.0, 'f1-score': 0.0, 'support': 22.0}, 'NarrowAcrosome': {'precision': 0.4214123006833713, 'recall': 0.6826568265682657, 'f1-score': 0.5211267605633803, 'support': 271.0}, 'Normal': {'precision': 0.0, 'recall': 0.0, 'f1-score': 0.0, 'support': 77.0}, 'PinHead': {'precision': 0.7586206896551724, 'recall': 0.9166666666666666, 'f1-score': 0.8301886792452831, 'support': 24.0}, 'PyriformHead': {'precision': 0.24070450097847357, 'recall': 0.5466666666666666, 'f1-score': 0.3342391304347826, 'support': 225.0}, 'RoundHead': {'precision': 0.0, 'recall': 0.0, 'f1-score': 0.0, 'support': 41.0}, 'ShortTail': {'precision': 0.0, 'recall': 0.0, 'f1-score': 0.0, 'support': 72.0}, 'TaperedHead': {'precision': 0.2006269592476489, 'recall': 0.2782608695652174, 'f1-score': 0.2331511839708561, 'support': 230.0}, 'ThickNeck': {'precision': 0.2872340425531915, 'recall': 0.1443850267379679, 'f1-score': 0.19217081850533807, 'support': 187.0}, 'ThinNeck': {'precision': 0.0, 'recall': 0.0, 'f1-score': 0.0, 'support': 36.0}, 'TwistedNeck': {'precision': 0.25892857142857145, 'recall': 0.1695906432748538, 'f1-score': 0.2049469964664311, 'support': 171.0}, 'TwistedTail': {'precision': 0.6968641114982579, 'recall': 0.8771929824561403, 'f1-score': 0.7766990291262136, 'support': 456.0}, 'VacuolatedHead': {'precision': 0.0, 'recall': 0.0, 'f1-score': 0.0, 'support': 102.0}, 'accuracy': 0.38491906829846034, 'macro avg': {'precision': 0.19005238783412298, 'recall': 0.23124845033064187, 'f1-score': 0.20219900471229516, 'support': 2533.0}, 'weighted avg': {'precision': 0.30850041551371993, 'recall': 0.38491906829846034, 'f1-score': 0.332731455522163, 'support': 2533.0}}\n"
     ]
    },
    {
     "name": "stderr",
     "output_type": "stream",
     "text": [
      "/home/gurol/anaconda3/envs/araproje/lib/python3.13/site-packages/sklearn/metrics/_classification.py:1531: UndefinedMetricWarning: Precision is ill-defined and being set to 0.0 in labels with no predicted samples. Use `zero_division` parameter to control this behavior.\n",
      "  _warn_prf(average, modifier, f\"{metric.capitalize()} is\", len(result))\n",
      "/home/gurol/anaconda3/envs/araproje/lib/python3.13/site-packages/sklearn/metrics/_classification.py:1531: UndefinedMetricWarning: Precision is ill-defined and being set to 0.0 in labels with no predicted samples. Use `zero_division` parameter to control this behavior.\n",
      "  _warn_prf(average, modifier, f\"{metric.capitalize()} is\", len(result))\n",
      "/home/gurol/anaconda3/envs/araproje/lib/python3.13/site-packages/sklearn/metrics/_classification.py:1531: UndefinedMetricWarning: Precision is ill-defined and being set to 0.0 in labels with no predicted samples. Use `zero_division` parameter to control this behavior.\n",
      "  _warn_prf(average, modifier, f\"{metric.capitalize()} is\", len(result))\n",
      "Some weights of Dinov2ForImageClassification were not initialized from the model checkpoint at facebook/dinov2-small and are newly initialized: ['classifier.bias', 'classifier.weight']\n",
      "You should probably TRAIN this model on a down-stream task to be able to use it for predictions and inference.\n",
      "/tmp/ipykernel_1482/3905504083.py:72: FutureWarning: You are using `torch.load` with `weights_only=False` (the current default value), which uses the default pickle module implicitly. It is possible to construct malicious pickle data which will execute arbitrary code during unpickling (See https://github.com/pytorch/pytorch/blob/main/SECURITY.md#untrusted-models for more details). In a future release, the default value for `weights_only` will be flipped to `True`. This limits the functions that could be executed during unpickling. Arbitrary objects will no longer be allowed to be loaded via this mode unless they are explicitly allowlisted by the user via `torch.serialization.add_safe_globals`. We recommend you start setting `weights_only=True` for any use case where you don't have full control of the loaded file. Please open an issue on GitHub for any issues related to this experimental feature.\n",
      "  model.load_state_dict(torch.load(model_path))\n"
     ]
    },
    {
     "name": "stdout",
     "output_type": "stream",
     "text": [
      "Fold 3 Confusion Matrix:\n",
      "[[ 58   0   7   0   0   0 112   0   0  55   0   0  41  20   0  15   0   0]\n",
      " [ 18   0   2   0   0   0  21   0   0  26   0   0  14   8   0   2   1   0]\n",
      " [  3   0  67   0   0   0  18   0   0  16   0   0  17   3   0  10  57   0]\n",
      " [  2   0   1   0   0   0   3   0   0   1   0   0   0   2   0   1   1   0]\n",
      " [  0   0   1   0   0   0   0   0   0   0   0   0   1   0   0   0  14   0]\n",
      " [  0   0   0   0   0   0   0   0   0   0   0   0   0   0   0   0  21   0]\n",
      " [ 49   0   6   0   0   0 180   0   0   4   0   0  27   1   0   4   0   0]\n",
      " [  0   0   3   0   0   0   0   0   2   0   0   0   0   0   0   0  71   0]\n",
      " [  0   0   1   0   0   0   0   0  20   0   0   0   0   0   0   0   3   0]\n",
      " [ 24   0  10   0   0   0  14   0   0 125   0   0  29  15   0   7   1   0]\n",
      " [  5   0   1   0   0   0   4   0   0  21   0   0   2   5   0   2   0   0]\n",
      " [  3   0  33   0   0   0  11   0   0  11   0   0   7   1   0   1   5   0]\n",
      " [ 36   0  14   0   0   0  61   0   0  41   0   0  58   8   0  11   1   0]\n",
      " [ 42   0   3   0   0   0  14   0   0  74   0   0  24  22   0   6   2   0]\n",
      " [  6   0   1   0   0   0   7   0   0  13   0   0   6   2   0   1   0   0]\n",
      " [ 38   0  13   0   0   0  28   0   0  51   0   0  13   7   0  19   2   0]\n",
      " [  0   0  39   0   0   0   5   0   2   6   0   0   3   0   0   2 399   0]\n",
      " [ 12   0   3   0   0   0   5   0   0  52   0   0  13  14   0   3   0   0]]\n",
      "{'AmorfHead': {'precision': 0.19594594594594594, 'recall': 0.18831168831168832, 'f1-score': 0.19205298013245034, 'support': 308.0}, 'AsymmetricNeck': {'precision': 0.0, 'recall': 0.0, 'f1-score': 0.0, 'support': 92.0}, 'CurlyTail': {'precision': 0.32682926829268294, 'recall': 0.3507853403141361, 'f1-score': 0.3383838383838384, 'support': 191.0}, 'DoubleHead': {'precision': 0.0, 'recall': 0.0, 'f1-score': 0.0, 'support': 11.0}, 'DoubleTail': {'precision': 0.0, 'recall': 0.0, 'f1-score': 0.0, 'support': 16.0}, 'LongTail': {'precision': 0.0, 'recall': 0.0, 'f1-score': 0.0, 'support': 21.0}, 'NarrowAcrosome': {'precision': 0.37267080745341613, 'recall': 0.6642066420664207, 'f1-score': 0.47745358090185674, 'support': 271.0}, 'Normal': {'precision': 0.0, 'recall': 0.0, 'f1-score': 0.0, 'support': 76.0}, 'PinHead': {'precision': 0.8333333333333334, 'recall': 0.8333333333333334, 'f1-score': 0.8333333333333334, 'support': 24.0}, 'PyriformHead': {'precision': 0.25201612903225806, 'recall': 0.5555555555555556, 'f1-score': 0.34674063800277394, 'support': 225.0}, 'RoundHead': {'precision': 0.0, 'recall': 0.0, 'f1-score': 0.0, 'support': 40.0}, 'ShortTail': {'precision': 0.0, 'recall': 0.0, 'f1-score': 0.0, 'support': 72.0}, 'TaperedHead': {'precision': 0.22745098039215686, 'recall': 0.25217391304347825, 'f1-score': 0.23917525773195877, 'support': 230.0}, 'ThickNeck': {'precision': 0.2037037037037037, 'recall': 0.11764705882352941, 'f1-score': 0.14915254237288136, 'support': 187.0}, 'ThinNeck': {'precision': 0.0, 'recall': 0.0, 'f1-score': 0.0, 'support': 36.0}, 'TwistedNeck': {'precision': 0.2261904761904762, 'recall': 0.1111111111111111, 'f1-score': 0.14901960784313725, 'support': 171.0}, 'TwistedTail': {'precision': 0.6903114186851211, 'recall': 0.875, 'f1-score': 0.7717601547388782, 'support': 456.0}, 'VacuolatedHead': {'precision': 0.0, 'recall': 0.0, 'f1-score': 0.0, 'support': 102.0}, 'accuracy': 0.3748517200474496, 'macro avg': {'precision': 0.18491400350161635, 'recall': 0.21934025791995848, 'f1-score': 0.1942817740800616, 'support': 2529.0}, 'weighted avg': {'precision': 0.2943218884456951, 'recall': 0.3748517200474496, 'f1-score': 0.32087663629549995, 'support': 2529.0}}\n"
     ]
    },
    {
     "name": "stderr",
     "output_type": "stream",
     "text": [
      "/home/gurol/anaconda3/envs/araproje/lib/python3.13/site-packages/sklearn/metrics/_classification.py:1531: UndefinedMetricWarning: Precision is ill-defined and being set to 0.0 in labels with no predicted samples. Use `zero_division` parameter to control this behavior.\n",
      "  _warn_prf(average, modifier, f\"{metric.capitalize()} is\", len(result))\n",
      "/home/gurol/anaconda3/envs/araproje/lib/python3.13/site-packages/sklearn/metrics/_classification.py:1531: UndefinedMetricWarning: Precision is ill-defined and being set to 0.0 in labels with no predicted samples. Use `zero_division` parameter to control this behavior.\n",
      "  _warn_prf(average, modifier, f\"{metric.capitalize()} is\", len(result))\n",
      "/home/gurol/anaconda3/envs/araproje/lib/python3.13/site-packages/sklearn/metrics/_classification.py:1531: UndefinedMetricWarning: Precision is ill-defined and being set to 0.0 in labels with no predicted samples. Use `zero_division` parameter to control this behavior.\n",
      "  _warn_prf(average, modifier, f\"{metric.capitalize()} is\", len(result))\n",
      "Some weights of Dinov2ForImageClassification were not initialized from the model checkpoint at facebook/dinov2-small and are newly initialized: ['classifier.bias', 'classifier.weight']\n",
      "You should probably TRAIN this model on a down-stream task to be able to use it for predictions and inference.\n",
      "/tmp/ipykernel_1482/3905504083.py:72: FutureWarning: You are using `torch.load` with `weights_only=False` (the current default value), which uses the default pickle module implicitly. It is possible to construct malicious pickle data which will execute arbitrary code during unpickling (See https://github.com/pytorch/pytorch/blob/main/SECURITY.md#untrusted-models for more details). In a future release, the default value for `weights_only` will be flipped to `True`. This limits the functions that could be executed during unpickling. Arbitrary objects will no longer be allowed to be loaded via this mode unless they are explicitly allowlisted by the user via `torch.serialization.add_safe_globals`. We recommend you start setting `weights_only=True` for any use case where you don't have full control of the loaded file. Please open an issue on GitHub for any issues related to this experimental feature.\n",
      "  model.load_state_dict(torch.load(model_path))\n"
     ]
    },
    {
     "name": "stdout",
     "output_type": "stream",
     "text": [
      "Fold 4 Confusion Matrix:\n",
      "[[ 60   0  11   0   0   0  99   0   0  47   0   0  44  22   0  23   0   1]\n",
      " [  9   0   2   0   0   0  16   0   0  25   0   0  24   6   0   9   0   1]\n",
      " [  5   0  76   0   0   0  14   0   0  15   0   2   9   4   0   3  63   0]\n",
      " [  1   0   1   0   0   0   3   0   0   2   0   0   0   1   0   1   0   1]\n",
      " [  0   0   4   0   0   0   0   0   0   0   0   1   0   0   0   0  11   0]\n",
      " [  0   0   0   0   0   0   0   0   0   0   0   0   0   0   0   0  21   0]\n",
      " [ 29   0   7   0   0   0 200   0   0   6   0   1  23   1   0   4   0   0]\n",
      " [  0   0   2   0   0   1   0   0   0   1   0   0   0   0   0   0  71   0]\n",
      " [  0   0   1   0   0   1   0   0  19   0   0   0   0   0   0   0   3   0]\n",
      " [ 25   0   8   0   0   0  21   0   0  95   0   0  29  31   0  16   0   0]\n",
      " [  7   0   1   0   0   0   9   0   0  16   0   0   3   3   0   1   0   0]\n",
      " [  2   0  23   0   0   0  13   0   0  11   0   1   8   1   0   4   8   1]\n",
      " [ 31   0   6   0   0   0  47   0   0  56   0   3  61  12   0  13   0   1]\n",
      " [ 27   0   5   0   0   0  14   0   0  69   0   0  28  32   0  11   1   0]\n",
      " [  2   0   1   0   0   0   3   0   0  15   0   1   8   4   0   2   0   0]\n",
      " [ 20   0  12   0   0   0  30   0   0  39   0   0  19  12   0  36   2   1]\n",
      " [  1   0  39   0   0   2   4   0   0   3   0   0   0   0   0   1 405   0]\n",
      " [ 20   0   6   0   0   0   2   0   0  39   0   0  13  11   0  10   1   0]]\n",
      "{'AmorfHead': {'precision': 0.2510460251046025, 'recall': 0.19543973941368079, 'f1-score': 0.21978021978021978, 'support': 307.0}, 'AsymmetricNeck': {'precision': 0.0, 'recall': 0.0, 'f1-score': 0.0, 'support': 92.0}, 'CurlyTail': {'precision': 0.37073170731707317, 'recall': 0.39790575916230364, 'f1-score': 0.3838383838383838, 'support': 191.0}, 'DoubleHead': {'precision': 0.0, 'recall': 0.0, 'f1-score': 0.0, 'support': 10.0}, 'DoubleTail': {'precision': 0.0, 'recall': 0.0, 'f1-score': 0.0, 'support': 16.0}, 'LongTail': {'precision': 0.0, 'recall': 0.0, 'f1-score': 0.0, 'support': 21.0}, 'NarrowAcrosome': {'precision': 0.42105263157894735, 'recall': 0.7380073800738007, 'f1-score': 0.5361930294906166, 'support': 271.0}, 'Normal': {'precision': 0.0, 'recall': 0.0, 'f1-score': 0.0, 'support': 75.0}, 'PinHead': {'precision': 1.0, 'recall': 0.7916666666666666, 'f1-score': 0.8837209302325582, 'support': 24.0}, 'PyriformHead': {'precision': 0.2164009111617312, 'recall': 0.4222222222222222, 'f1-score': 0.286144578313253, 'support': 225.0}, 'RoundHead': {'precision': 0.0, 'recall': 0.0, 'f1-score': 0.0, 'support': 40.0}, 'ShortTail': {'precision': 0.1111111111111111, 'recall': 0.013888888888888888, 'f1-score': 0.024691358024691357, 'support': 72.0}, 'TaperedHead': {'precision': 0.22676579925650558, 'recall': 0.26521739130434785, 'f1-score': 0.24448897795591182, 'support': 230.0}, 'ThickNeck': {'precision': 0.22857142857142856, 'recall': 0.1711229946524064, 'f1-score': 0.19571865443425077, 'support': 187.0}, 'ThinNeck': {'precision': 0.0, 'recall': 0.0, 'f1-score': 0.0, 'support': 36.0}, 'TwistedNeck': {'precision': 0.26865671641791045, 'recall': 0.21052631578947367, 'f1-score': 0.2360655737704918, 'support': 171.0}, 'TwistedTail': {'precision': 0.6911262798634812, 'recall': 0.8901098901098901, 'f1-score': 0.7780979827089337, 'support': 455.0}, 'VacuolatedHead': {'precision': 0.0, 'recall': 0.0, 'f1-score': 0.0, 'support': 102.0}, 'accuracy': 0.3900990099009901, 'macro avg': {'precision': 0.2103034783545995, 'recall': 0.22756151379353787, 'f1-score': 0.21048553825273947, 'support': 2525.0}, 'weighted avg': {'precision': 0.31603093100639934, 'recall': 0.3900990099009901, 'f1-score': 0.34087018952785764, 'support': 2525.0}}\n"
     ]
    },
    {
     "name": "stderr",
     "output_type": "stream",
     "text": [
      "/home/gurol/anaconda3/envs/araproje/lib/python3.13/site-packages/sklearn/metrics/_classification.py:1531: UndefinedMetricWarning: Precision is ill-defined and being set to 0.0 in labels with no predicted samples. Use `zero_division` parameter to control this behavior.\n",
      "  _warn_prf(average, modifier, f\"{metric.capitalize()} is\", len(result))\n",
      "/home/gurol/anaconda3/envs/araproje/lib/python3.13/site-packages/sklearn/metrics/_classification.py:1531: UndefinedMetricWarning: Precision is ill-defined and being set to 0.0 in labels with no predicted samples. Use `zero_division` parameter to control this behavior.\n",
      "  _warn_prf(average, modifier, f\"{metric.capitalize()} is\", len(result))\n",
      "/home/gurol/anaconda3/envs/araproje/lib/python3.13/site-packages/sklearn/metrics/_classification.py:1531: UndefinedMetricWarning: Precision is ill-defined and being set to 0.0 in labels with no predicted samples. Use `zero_division` parameter to control this behavior.\n",
      "  _warn_prf(average, modifier, f\"{metric.capitalize()} is\", len(result))\n",
      "Some weights of Dinov2ForImageClassification were not initialized from the model checkpoint at facebook/dinov2-small and are newly initialized: ['classifier.bias', 'classifier.weight']\n",
      "You should probably TRAIN this model on a down-stream task to be able to use it for predictions and inference.\n",
      "/tmp/ipykernel_1482/3905504083.py:72: FutureWarning: You are using `torch.load` with `weights_only=False` (the current default value), which uses the default pickle module implicitly. It is possible to construct malicious pickle data which will execute arbitrary code during unpickling (See https://github.com/pytorch/pytorch/blob/main/SECURITY.md#untrusted-models for more details). In a future release, the default value for `weights_only` will be flipped to `True`. This limits the functions that could be executed during unpickling. Arbitrary objects will no longer be allowed to be loaded via this mode unless they are explicitly allowlisted by the user via `torch.serialization.add_safe_globals`. We recommend you start setting `weights_only=True` for any use case where you don't have full control of the loaded file. Please open an issue on GitHub for any issues related to this experimental feature.\n",
      "  model.load_state_dict(torch.load(model_path))\n"
     ]
    },
    {
     "name": "stdout",
     "output_type": "stream",
     "text": [
      "Fold 5 Confusion Matrix:\n",
      "[[ 53   0   9   0   0   0  99   0   0  52   0   0  53  30   0  10   1   0]\n",
      " [ 13   0   4   0   0   0  16   0   0  30   0   0  15   9   0   4   0   0]\n",
      " [  3   0  72   0   0   0  12   0   1  14   0   0  16   2   0   6  65   0]\n",
      " [  0   0   1   0   0   0   5   0   0   2   0   0   1   1   0   0   0   0]\n",
      " [  0   0   0   0   0   0   0   0   0   0   0   0   0   0   0   0  16   0]\n",
      " [  0   0   0   0   0   0   0   0   1   0   0   0   0   0   0   0  20   0]\n",
      " [ 31   0   7   0   0   0 191   0   0   1   0   1  31   4   0   4   1   0]\n",
      " [  0   0   3   0   0   0   0   0   0   0   0   0   0   0   0   0  73   0]\n",
      " [  0   0   0   0   0   0   0   0  20   0   0   0   0   0   0   0   3   0]\n",
      " [ 27   0   9   0   0   0  17   0   0 101   0   0  33  25   0  12   0   0]\n",
      " [  8   0   1   0   0   0   6   0   0  11   0   0   2  11   0   1   0   0]\n",
      " [  2   0  21   0   0   0  14   0   0  14   0   1  11   1   0   0   8   0]\n",
      " [ 22   0  12   0   0   0  56   0   0  54   0   1  52  22   0  11   0   0]\n",
      " [ 29   0   5   0   0   0  14   0   0  76   0   0  20  35   0   7   1   0]\n",
      " [  6   0   1   0   0   0   3   0   0  16   0   0   7   1   0   2   0   0]\n",
      " [ 25   0  15   0   0   0  30   0   0  39   0   0  27  15   0  19   1   0]\n",
      " [  0   0  27   0   0   0   6   0   4   1   0   0   3   0   0   3 411   0]\n",
      " [  7   0   7   0   0   0   7   0   0  36   0   0  24  16   0   4   0   1]]\n",
      "{'AmorfHead': {'precision': 0.2345132743362832, 'recall': 0.17263843648208468, 'f1-score': 0.19887429643527205, 'support': 307.0}, 'AsymmetricNeck': {'precision': 0.0, 'recall': 0.0, 'f1-score': 0.0, 'support': 91.0}, 'CurlyTail': {'precision': 0.3711340206185567, 'recall': 0.3769633507853403, 'f1-score': 0.37402597402597404, 'support': 191.0}, 'DoubleHead': {'precision': 0.0, 'recall': 0.0, 'f1-score': 0.0, 'support': 10.0}, 'DoubleTail': {'precision': 0.0, 'recall': 0.0, 'f1-score': 0.0, 'support': 16.0}, 'LongTail': {'precision': 0.0, 'recall': 0.0, 'f1-score': 0.0, 'support': 21.0}, 'NarrowAcrosome': {'precision': 0.4012605042016807, 'recall': 0.7047970479704797, 'f1-score': 0.5113788487282463, 'support': 271.0}, 'Normal': {'precision': 0.0, 'recall': 0.0, 'f1-score': 0.0, 'support': 76.0}, 'PinHead': {'precision': 0.7692307692307693, 'recall': 0.8695652173913043, 'f1-score': 0.8163265306122449, 'support': 23.0}, 'PyriformHead': {'precision': 0.22595078299776286, 'recall': 0.45089285714285715, 'f1-score': 0.30104321907600595, 'support': 224.0}, 'RoundHead': {'precision': 0.0, 'recall': 0.0, 'f1-score': 0.0, 'support': 40.0}, 'ShortTail': {'precision': 0.3333333333333333, 'recall': 0.013888888888888888, 'f1-score': 0.02666666666666667, 'support': 72.0}, 'TaperedHead': {'precision': 0.17627118644067796, 'recall': 0.22608695652173913, 'f1-score': 0.1980952380952381, 'support': 230.0}, 'ThickNeck': {'precision': 0.20348837209302326, 'recall': 0.18716577540106952, 'f1-score': 0.19498607242339833, 'support': 187.0}, 'ThinNeck': {'precision': 0.0, 'recall': 0.0, 'f1-score': 0.0, 'support': 36.0}, 'TwistedNeck': {'precision': 0.2289156626506024, 'recall': 0.1111111111111111, 'f1-score': 0.14960629921259844, 'support': 171.0}, 'TwistedTail': {'precision': 0.685, 'recall': 0.9032967032967033, 'f1-score': 0.7791469194312797, 'support': 455.0}, 'VacuolatedHead': {'precision': 1.0, 'recall': 0.00980392156862745, 'f1-score': 0.019417475728155338, 'support': 102.0}, 'accuracy': 0.37891399128022196, 'macro avg': {'precision': 0.25717210588348277, 'recall': 0.22367834814223364, 'f1-score': 0.1983093078019489, 'support': 2523.0}, 'weighted avg': {'precision': 0.3469454338715218, 'recall': 0.37891399128022196, 'f1-score': 0.32632011005271105, 'support': 2523.0}}\n"
     ]
    },
    {
     "name": "stderr",
     "output_type": "stream",
     "text": [
      "/home/gurol/anaconda3/envs/araproje/lib/python3.13/site-packages/sklearn/metrics/_classification.py:1531: UndefinedMetricWarning: Precision is ill-defined and being set to 0.0 in labels with no predicted samples. Use `zero_division` parameter to control this behavior.\n",
      "  _warn_prf(average, modifier, f\"{metric.capitalize()} is\", len(result))\n",
      "/home/gurol/anaconda3/envs/araproje/lib/python3.13/site-packages/sklearn/metrics/_classification.py:1531: UndefinedMetricWarning: Precision is ill-defined and being set to 0.0 in labels with no predicted samples. Use `zero_division` parameter to control this behavior.\n",
      "  _warn_prf(average, modifier, f\"{metric.capitalize()} is\", len(result))\n",
      "/home/gurol/anaconda3/envs/araproje/lib/python3.13/site-packages/sklearn/metrics/_classification.py:1531: UndefinedMetricWarning: Precision is ill-defined and being set to 0.0 in labels with no predicted samples. Use `zero_division` parameter to control this behavior.\n",
      "  _warn_prf(average, modifier, f\"{metric.capitalize()} is\", len(result))\n"
     ]
    }
   ],
   "source": [
    "for i in range(1, 6):\n",
    "    train_model(i)\n",
    "    \n",
    "for i in range(1,6):\n",
    "    evaluate_model(i)"
   ]
  },
  {
   "cell_type": "code",
   "execution_count": 9,
   "metadata": {},
   "outputs": [
    {
     "name": "stdout",
     "output_type": "stream",
     "text": [
      "{1: ({'AmorfHead': {'precision': 0.16943521594684385, 'recall': 0.16612377850162866, 'f1-score': 0.16776315789473684, 'support': 307.0}, 'AsymmetricNeck': {'precision': 0.0, 'recall': 0.0, 'f1-score': 0.0, 'support': 91.0}, 'CurlyTail': {'precision': 0.3787878787878788, 'recall': 0.39267015706806285, 'f1-score': 0.3856041131105398, 'support': 191.0}, 'DoubleHead': {'precision': 0.0, 'recall': 0.0, 'f1-score': 0.0, 'support': 10.0}, 'DoubleTail': {'precision': 0.0, 'recall': 0.0, 'f1-score': 0.0, 'support': 16.0}, 'LongTail': {'precision': 0.0, 'recall': 0.0, 'f1-score': 0.0, 'support': 21.0}, 'NarrowAcrosome': {'precision': 0.3953488372093023, 'recall': 0.6900369003690037, 'f1-score': 0.5026881720430108, 'support': 271.0}, 'Normal': {'precision': 0.0, 'recall': 0.0, 'f1-score': 0.0, 'support': 76.0}, 'PinHead': {'precision': 0.8636363636363636, 'recall': 0.8636363636363636, 'f1-score': 0.8636363636363636, 'support': 22.0}, 'PyriformHead': {'precision': 0.2358490566037736, 'recall': 0.44642857142857145, 'f1-score': 0.30864197530864196, 'support': 224.0}, 'RoundHead': {'precision': 0.0, 'recall': 0.0, 'f1-score': 0.0, 'support': 40.0}, 'ShortTail': {'precision': 0.0, 'recall': 0.0, 'f1-score': 0.0, 'support': 71.0}, 'TaperedHead': {'precision': 0.23938223938223938, 'recall': 0.26956521739130435, 'f1-score': 0.25357873210633947, 'support': 230.0}, 'ThickNeck': {'precision': 0.18705035971223022, 'recall': 0.13978494623655913, 'f1-score': 0.16, 'support': 186.0}, 'ThinNeck': {'precision': 0.0, 'recall': 0.0, 'f1-score': 0.0, 'support': 36.0}, 'TwistedNeck': {'precision': 0.14782608695652175, 'recall': 0.09941520467836257, 'f1-score': 0.11888111888111888, 'support': 171.0}, 'TwistedTail': {'precision': 0.702054794520548, 'recall': 0.9010989010989011, 'f1-score': 0.7892204042348412, 'support': 455.0}, 'VacuolatedHead': {'precision': 0.0, 'recall': 0.0, 'f1-score': 0.0, 'support': 101.0}, 'accuracy': 0.3759428344581183, 'macro avg': {'precision': 0.1844094907086501, 'recall': 0.22048666891159763, 'f1-score': 0.1972230020675329, 'support': 2519.0}, 'weighted avg': {'precision': 0.29293262963395655, 'recall': 0.3759428344581183, 'f1-score': 0.32434499238212433, 'support': 2519.0}}, array([[ 51,   0,   8,   0,   0,   0, 105,   0,   0,  65,   0,   0,  41,\n",
      "         25,   0,  12,   0,   0],\n",
      "       [ 15,   0,   4,   0,   0,   0,  15,   0,   0,  20,   0,   0,  18,\n",
      "         11,   0,   8,   0,   0],\n",
      "       [  5,   0,  75,   0,   0,   0,  20,   0,   0,  12,   0,   0,   9,\n",
      "          2,   0,  11,  57,   0],\n",
      "       [  1,   0,   0,   0,   0,   0,   4,   0,   0,   2,   0,   0,   1,\n",
      "          0,   0,   2,   0,   0],\n",
      "       [  0,   0,   2,   0,   0,   0,   0,   0,   0,   0,   0,   0,   0,\n",
      "          0,   0,   0,  14,   0],\n",
      "       [  0,   0,   0,   0,   0,   0,   0,   0,   0,   0,   0,   0,   0,\n",
      "          0,   0,   0,  21,   0],\n",
      "       [ 49,   0,   9,   0,   0,   0, 187,   0,   0,   4,   0,   0,  17,\n",
      "          2,   0,   2,   1,   0],\n",
      "       [  0,   0,   0,   0,   0,   0,   1,   0,   2,   0,   0,   0,   0,\n",
      "          0,   0,   0,  73,   0],\n",
      "       [  0,   0,   1,   0,   0,   0,   0,   0,  19,   0,   0,   0,   0,\n",
      "          0,   0,   0,   2,   0],\n",
      "       [ 32,   0,   7,   0,   0,   0,  11,   0,   0, 100,   0,   1,  30,\n",
      "         27,   0,  16,   0,   0],\n",
      "       [  7,   0,   0,   0,   0,   0,   5,   0,   0,   9,   0,   0,   3,\n",
      "         13,   0,   3,   0,   0],\n",
      "       [  4,   0,  25,   0,   0,   0,  13,   0,   0,  12,   0,   0,   7,\n",
      "          0,   0,   4,   6,   0],\n",
      "       [ 40,   0,   8,   0,   0,   0,  39,   0,   0,  53,   0,   0,  62,\n",
      "         11,   0,  17,   0,   0],\n",
      "       [ 43,   0,   4,   0,   0,   0,  11,   0,   0,  60,   0,   0,  23,\n",
      "         26,   0,  19,   0,   0],\n",
      "       [  8,   0,   4,   0,   0,   0,   6,   0,   0,  10,   0,   0,   7,\n",
      "          1,   0,   0,   0,   0],\n",
      "       [ 30,   0,  13,   0,   0,   0,  42,   0,   0,  34,   0,   0,  26,\n",
      "          9,   0,  17,   0,   0],\n",
      "       [  0,   0,  32,   0,   0,   0,   5,   0,   1,   3,   0,   3,   0,\n",
      "          0,   0,   1, 410,   0],\n",
      "       [ 16,   0,   6,   0,   0,   0,   9,   0,   0,  40,   0,   0,  15,\n",
      "         12,   0,   3,   0,   0]])), 2: ({'AmorfHead': {'precision': 0.22784810126582278, 'recall': 0.17532467532467533, 'f1-score': 0.1981651376146789, 'support': 308.0}, 'AsymmetricNeck': {'precision': 0.0, 'recall': 0.0, 'f1-score': 0.0, 'support': 92.0}, 'CurlyTail': {'precision': 0.3287037037037037, 'recall': 0.3717277486910995, 'f1-score': 0.3488943488943489, 'support': 191.0}, 'DoubleHead': {'precision': 0.0, 'recall': 0.0, 'f1-score': 0.0, 'support': 11.0}, 'DoubleTail': {'precision': 0.0, 'recall': 0.0, 'f1-score': 0.0, 'support': 17.0}, 'LongTail': {'precision': 0.0, 'recall': 0.0, 'f1-score': 0.0, 'support': 22.0}, 'NarrowAcrosome': {'precision': 0.4214123006833713, 'recall': 0.6826568265682657, 'f1-score': 0.5211267605633803, 'support': 271.0}, 'Normal': {'precision': 0.0, 'recall': 0.0, 'f1-score': 0.0, 'support': 77.0}, 'PinHead': {'precision': 0.7586206896551724, 'recall': 0.9166666666666666, 'f1-score': 0.8301886792452831, 'support': 24.0}, 'PyriformHead': {'precision': 0.24070450097847357, 'recall': 0.5466666666666666, 'f1-score': 0.3342391304347826, 'support': 225.0}, 'RoundHead': {'precision': 0.0, 'recall': 0.0, 'f1-score': 0.0, 'support': 41.0}, 'ShortTail': {'precision': 0.0, 'recall': 0.0, 'f1-score': 0.0, 'support': 72.0}, 'TaperedHead': {'precision': 0.2006269592476489, 'recall': 0.2782608695652174, 'f1-score': 0.2331511839708561, 'support': 230.0}, 'ThickNeck': {'precision': 0.2872340425531915, 'recall': 0.1443850267379679, 'f1-score': 0.19217081850533807, 'support': 187.0}, 'ThinNeck': {'precision': 0.0, 'recall': 0.0, 'f1-score': 0.0, 'support': 36.0}, 'TwistedNeck': {'precision': 0.25892857142857145, 'recall': 0.1695906432748538, 'f1-score': 0.2049469964664311, 'support': 171.0}, 'TwistedTail': {'precision': 0.6968641114982579, 'recall': 0.8771929824561403, 'f1-score': 0.7766990291262136, 'support': 456.0}, 'VacuolatedHead': {'precision': 0.0, 'recall': 0.0, 'f1-score': 0.0, 'support': 102.0}, 'accuracy': 0.38491906829846034, 'macro avg': {'precision': 0.19005238783412298, 'recall': 0.23124845033064187, 'f1-score': 0.20219900471229516, 'support': 2533.0}, 'weighted avg': {'precision': 0.30850041551371993, 'recall': 0.38491906829846034, 'f1-score': 0.332731455522163, 'support': 2533.0}}, array([[ 54,   0,  12,   0,   0,   0,  99,   0,   0,  53,   0,   0,  54,\n",
      "         17,   0,  18,   0,   1],\n",
      "       [ 13,   0,   8,   0,   0,   0,  15,   0,   0,  26,   0,   0,  15,\n",
      "          8,   0,   7,   0,   0],\n",
      "       [  2,   0,  71,   0,   0,   0,  15,   0,   0,  24,   0,   0,  18,\n",
      "          0,   0,   7,  54,   0],\n",
      "       [  1,   0,   0,   0,   0,   0,   6,   0,   0,   1,   0,   0,   2,\n",
      "          0,   0,   1,   0,   0],\n",
      "       [  0,   0,   3,   0,   0,   0,   0,   0,   0,   0,   0,   0,   0,\n",
      "          0,   0,   0,  14,   0],\n",
      "       [  0,   0,   0,   0,   0,   0,   0,   0,   1,   0,   0,   0,   0,\n",
      "          0,   0,   0,  21,   0],\n",
      "       [ 42,   0,   7,   0,   0,   0, 185,   0,   0,   2,   0,   0,  31,\n",
      "          0,   0,   4,   0,   0],\n",
      "       [  0,   0,   6,   0,   0,   0,   0,   0,   0,   0,   0,   0,   0,\n",
      "          0,   0,   0,  71,   0],\n",
      "       [  0,   0,   0,   0,   0,   0,   0,   0,  22,   0,   0,   0,   0,\n",
      "          0,   0,   0,   2,   0],\n",
      "       [ 15,   0,   7,   0,   0,   0,  13,   0,   1, 123,   1,   0,  40,\n",
      "         15,   0,   9,   1,   0],\n",
      "       [  3,   0,   1,   0,   0,   0,   5,   0,   0,  21,   0,   0,   7,\n",
      "          1,   0,   3,   0,   0],\n",
      "       [  4,   0,  21,   0,   0,   0,  14,   0,   0,   7,   0,   0,  11,\n",
      "          1,   0,   5,   9,   0],\n",
      "       [ 32,   0,  15,   0,   0,   0,  45,   0,   0,  52,   0,   0,  64,\n",
      "         13,   0,   9,   0,   0],\n",
      "       [ 30,   0,   1,   0,   0,   0,   4,   0,   0,  82,   0,   0,  37,\n",
      "         27,   0,   6,   0,   0],\n",
      "       [  5,   0,   2,   0,   0,   0,   6,   0,   0,  16,   0,   0,   4,\n",
      "          0,   0,   2,   1,   0],\n",
      "       [ 25,   0,  15,   0,   0,   0,  24,   0,   0,  53,   0,   0,  15,\n",
      "          9,   0,  29,   1,   0],\n",
      "       [  0,   0,  39,   0,   0,   0,   2,   0,   5,   4,   0,   0,   3,\n",
      "          0,   0,   3, 400,   0],\n",
      "       [ 11,   0,   8,   0,   0,   0,   6,   0,   0,  47,   0,   0,  18,\n",
      "          3,   0,   9,   0,   0]])), 3: ({'AmorfHead': {'precision': 0.19594594594594594, 'recall': 0.18831168831168832, 'f1-score': 0.19205298013245034, 'support': 308.0}, 'AsymmetricNeck': {'precision': 0.0, 'recall': 0.0, 'f1-score': 0.0, 'support': 92.0}, 'CurlyTail': {'precision': 0.32682926829268294, 'recall': 0.3507853403141361, 'f1-score': 0.3383838383838384, 'support': 191.0}, 'DoubleHead': {'precision': 0.0, 'recall': 0.0, 'f1-score': 0.0, 'support': 11.0}, 'DoubleTail': {'precision': 0.0, 'recall': 0.0, 'f1-score': 0.0, 'support': 16.0}, 'LongTail': {'precision': 0.0, 'recall': 0.0, 'f1-score': 0.0, 'support': 21.0}, 'NarrowAcrosome': {'precision': 0.37267080745341613, 'recall': 0.6642066420664207, 'f1-score': 0.47745358090185674, 'support': 271.0}, 'Normal': {'precision': 0.0, 'recall': 0.0, 'f1-score': 0.0, 'support': 76.0}, 'PinHead': {'precision': 0.8333333333333334, 'recall': 0.8333333333333334, 'f1-score': 0.8333333333333334, 'support': 24.0}, 'PyriformHead': {'precision': 0.25201612903225806, 'recall': 0.5555555555555556, 'f1-score': 0.34674063800277394, 'support': 225.0}, 'RoundHead': {'precision': 0.0, 'recall': 0.0, 'f1-score': 0.0, 'support': 40.0}, 'ShortTail': {'precision': 0.0, 'recall': 0.0, 'f1-score': 0.0, 'support': 72.0}, 'TaperedHead': {'precision': 0.22745098039215686, 'recall': 0.25217391304347825, 'f1-score': 0.23917525773195877, 'support': 230.0}, 'ThickNeck': {'precision': 0.2037037037037037, 'recall': 0.11764705882352941, 'f1-score': 0.14915254237288136, 'support': 187.0}, 'ThinNeck': {'precision': 0.0, 'recall': 0.0, 'f1-score': 0.0, 'support': 36.0}, 'TwistedNeck': {'precision': 0.2261904761904762, 'recall': 0.1111111111111111, 'f1-score': 0.14901960784313725, 'support': 171.0}, 'TwistedTail': {'precision': 0.6903114186851211, 'recall': 0.875, 'f1-score': 0.7717601547388782, 'support': 456.0}, 'VacuolatedHead': {'precision': 0.0, 'recall': 0.0, 'f1-score': 0.0, 'support': 102.0}, 'accuracy': 0.3748517200474496, 'macro avg': {'precision': 0.18491400350161635, 'recall': 0.21934025791995848, 'f1-score': 0.1942817740800616, 'support': 2529.0}, 'weighted avg': {'precision': 0.2943218884456951, 'recall': 0.3748517200474496, 'f1-score': 0.32087663629549995, 'support': 2529.0}}, array([[ 58,   0,   7,   0,   0,   0, 112,   0,   0,  55,   0,   0,  41,\n",
      "         20,   0,  15,   0,   0],\n",
      "       [ 18,   0,   2,   0,   0,   0,  21,   0,   0,  26,   0,   0,  14,\n",
      "          8,   0,   2,   1,   0],\n",
      "       [  3,   0,  67,   0,   0,   0,  18,   0,   0,  16,   0,   0,  17,\n",
      "          3,   0,  10,  57,   0],\n",
      "       [  2,   0,   1,   0,   0,   0,   3,   0,   0,   1,   0,   0,   0,\n",
      "          2,   0,   1,   1,   0],\n",
      "       [  0,   0,   1,   0,   0,   0,   0,   0,   0,   0,   0,   0,   1,\n",
      "          0,   0,   0,  14,   0],\n",
      "       [  0,   0,   0,   0,   0,   0,   0,   0,   0,   0,   0,   0,   0,\n",
      "          0,   0,   0,  21,   0],\n",
      "       [ 49,   0,   6,   0,   0,   0, 180,   0,   0,   4,   0,   0,  27,\n",
      "          1,   0,   4,   0,   0],\n",
      "       [  0,   0,   3,   0,   0,   0,   0,   0,   2,   0,   0,   0,   0,\n",
      "          0,   0,   0,  71,   0],\n",
      "       [  0,   0,   1,   0,   0,   0,   0,   0,  20,   0,   0,   0,   0,\n",
      "          0,   0,   0,   3,   0],\n",
      "       [ 24,   0,  10,   0,   0,   0,  14,   0,   0, 125,   0,   0,  29,\n",
      "         15,   0,   7,   1,   0],\n",
      "       [  5,   0,   1,   0,   0,   0,   4,   0,   0,  21,   0,   0,   2,\n",
      "          5,   0,   2,   0,   0],\n",
      "       [  3,   0,  33,   0,   0,   0,  11,   0,   0,  11,   0,   0,   7,\n",
      "          1,   0,   1,   5,   0],\n",
      "       [ 36,   0,  14,   0,   0,   0,  61,   0,   0,  41,   0,   0,  58,\n",
      "          8,   0,  11,   1,   0],\n",
      "       [ 42,   0,   3,   0,   0,   0,  14,   0,   0,  74,   0,   0,  24,\n",
      "         22,   0,   6,   2,   0],\n",
      "       [  6,   0,   1,   0,   0,   0,   7,   0,   0,  13,   0,   0,   6,\n",
      "          2,   0,   1,   0,   0],\n",
      "       [ 38,   0,  13,   0,   0,   0,  28,   0,   0,  51,   0,   0,  13,\n",
      "          7,   0,  19,   2,   0],\n",
      "       [  0,   0,  39,   0,   0,   0,   5,   0,   2,   6,   0,   0,   3,\n",
      "          0,   0,   2, 399,   0],\n",
      "       [ 12,   0,   3,   0,   0,   0,   5,   0,   0,  52,   0,   0,  13,\n",
      "         14,   0,   3,   0,   0]])), 4: ({'AmorfHead': {'precision': 0.2510460251046025, 'recall': 0.19543973941368079, 'f1-score': 0.21978021978021978, 'support': 307.0}, 'AsymmetricNeck': {'precision': 0.0, 'recall': 0.0, 'f1-score': 0.0, 'support': 92.0}, 'CurlyTail': {'precision': 0.37073170731707317, 'recall': 0.39790575916230364, 'f1-score': 0.3838383838383838, 'support': 191.0}, 'DoubleHead': {'precision': 0.0, 'recall': 0.0, 'f1-score': 0.0, 'support': 10.0}, 'DoubleTail': {'precision': 0.0, 'recall': 0.0, 'f1-score': 0.0, 'support': 16.0}, 'LongTail': {'precision': 0.0, 'recall': 0.0, 'f1-score': 0.0, 'support': 21.0}, 'NarrowAcrosome': {'precision': 0.42105263157894735, 'recall': 0.7380073800738007, 'f1-score': 0.5361930294906166, 'support': 271.0}, 'Normal': {'precision': 0.0, 'recall': 0.0, 'f1-score': 0.0, 'support': 75.0}, 'PinHead': {'precision': 1.0, 'recall': 0.7916666666666666, 'f1-score': 0.8837209302325582, 'support': 24.0}, 'PyriformHead': {'precision': 0.2164009111617312, 'recall': 0.4222222222222222, 'f1-score': 0.286144578313253, 'support': 225.0}, 'RoundHead': {'precision': 0.0, 'recall': 0.0, 'f1-score': 0.0, 'support': 40.0}, 'ShortTail': {'precision': 0.1111111111111111, 'recall': 0.013888888888888888, 'f1-score': 0.024691358024691357, 'support': 72.0}, 'TaperedHead': {'precision': 0.22676579925650558, 'recall': 0.26521739130434785, 'f1-score': 0.24448897795591182, 'support': 230.0}, 'ThickNeck': {'precision': 0.22857142857142856, 'recall': 0.1711229946524064, 'f1-score': 0.19571865443425077, 'support': 187.0}, 'ThinNeck': {'precision': 0.0, 'recall': 0.0, 'f1-score': 0.0, 'support': 36.0}, 'TwistedNeck': {'precision': 0.26865671641791045, 'recall': 0.21052631578947367, 'f1-score': 0.2360655737704918, 'support': 171.0}, 'TwistedTail': {'precision': 0.6911262798634812, 'recall': 0.8901098901098901, 'f1-score': 0.7780979827089337, 'support': 455.0}, 'VacuolatedHead': {'precision': 0.0, 'recall': 0.0, 'f1-score': 0.0, 'support': 102.0}, 'accuracy': 0.3900990099009901, 'macro avg': {'precision': 0.2103034783545995, 'recall': 0.22756151379353787, 'f1-score': 0.21048553825273947, 'support': 2525.0}, 'weighted avg': {'precision': 0.31603093100639934, 'recall': 0.3900990099009901, 'f1-score': 0.34087018952785764, 'support': 2525.0}}, array([[ 60,   0,  11,   0,   0,   0,  99,   0,   0,  47,   0,   0,  44,\n",
      "         22,   0,  23,   0,   1],\n",
      "       [  9,   0,   2,   0,   0,   0,  16,   0,   0,  25,   0,   0,  24,\n",
      "          6,   0,   9,   0,   1],\n",
      "       [  5,   0,  76,   0,   0,   0,  14,   0,   0,  15,   0,   2,   9,\n",
      "          4,   0,   3,  63,   0],\n",
      "       [  1,   0,   1,   0,   0,   0,   3,   0,   0,   2,   0,   0,   0,\n",
      "          1,   0,   1,   0,   1],\n",
      "       [  0,   0,   4,   0,   0,   0,   0,   0,   0,   0,   0,   1,   0,\n",
      "          0,   0,   0,  11,   0],\n",
      "       [  0,   0,   0,   0,   0,   0,   0,   0,   0,   0,   0,   0,   0,\n",
      "          0,   0,   0,  21,   0],\n",
      "       [ 29,   0,   7,   0,   0,   0, 200,   0,   0,   6,   0,   1,  23,\n",
      "          1,   0,   4,   0,   0],\n",
      "       [  0,   0,   2,   0,   0,   1,   0,   0,   0,   1,   0,   0,   0,\n",
      "          0,   0,   0,  71,   0],\n",
      "       [  0,   0,   1,   0,   0,   1,   0,   0,  19,   0,   0,   0,   0,\n",
      "          0,   0,   0,   3,   0],\n",
      "       [ 25,   0,   8,   0,   0,   0,  21,   0,   0,  95,   0,   0,  29,\n",
      "         31,   0,  16,   0,   0],\n",
      "       [  7,   0,   1,   0,   0,   0,   9,   0,   0,  16,   0,   0,   3,\n",
      "          3,   0,   1,   0,   0],\n",
      "       [  2,   0,  23,   0,   0,   0,  13,   0,   0,  11,   0,   1,   8,\n",
      "          1,   0,   4,   8,   1],\n",
      "       [ 31,   0,   6,   0,   0,   0,  47,   0,   0,  56,   0,   3,  61,\n",
      "         12,   0,  13,   0,   1],\n",
      "       [ 27,   0,   5,   0,   0,   0,  14,   0,   0,  69,   0,   0,  28,\n",
      "         32,   0,  11,   1,   0],\n",
      "       [  2,   0,   1,   0,   0,   0,   3,   0,   0,  15,   0,   1,   8,\n",
      "          4,   0,   2,   0,   0],\n",
      "       [ 20,   0,  12,   0,   0,   0,  30,   0,   0,  39,   0,   0,  19,\n",
      "         12,   0,  36,   2,   1],\n",
      "       [  1,   0,  39,   0,   0,   2,   4,   0,   0,   3,   0,   0,   0,\n",
      "          0,   0,   1, 405,   0],\n",
      "       [ 20,   0,   6,   0,   0,   0,   2,   0,   0,  39,   0,   0,  13,\n",
      "         11,   0,  10,   1,   0]])), 5: ({'AmorfHead': {'precision': 0.2345132743362832, 'recall': 0.17263843648208468, 'f1-score': 0.19887429643527205, 'support': 307.0}, 'AsymmetricNeck': {'precision': 0.0, 'recall': 0.0, 'f1-score': 0.0, 'support': 91.0}, 'CurlyTail': {'precision': 0.3711340206185567, 'recall': 0.3769633507853403, 'f1-score': 0.37402597402597404, 'support': 191.0}, 'DoubleHead': {'precision': 0.0, 'recall': 0.0, 'f1-score': 0.0, 'support': 10.0}, 'DoubleTail': {'precision': 0.0, 'recall': 0.0, 'f1-score': 0.0, 'support': 16.0}, 'LongTail': {'precision': 0.0, 'recall': 0.0, 'f1-score': 0.0, 'support': 21.0}, 'NarrowAcrosome': {'precision': 0.4012605042016807, 'recall': 0.7047970479704797, 'f1-score': 0.5113788487282463, 'support': 271.0}, 'Normal': {'precision': 0.0, 'recall': 0.0, 'f1-score': 0.0, 'support': 76.0}, 'PinHead': {'precision': 0.7692307692307693, 'recall': 0.8695652173913043, 'f1-score': 0.8163265306122449, 'support': 23.0}, 'PyriformHead': {'precision': 0.22595078299776286, 'recall': 0.45089285714285715, 'f1-score': 0.30104321907600595, 'support': 224.0}, 'RoundHead': {'precision': 0.0, 'recall': 0.0, 'f1-score': 0.0, 'support': 40.0}, 'ShortTail': {'precision': 0.3333333333333333, 'recall': 0.013888888888888888, 'f1-score': 0.02666666666666667, 'support': 72.0}, 'TaperedHead': {'precision': 0.17627118644067796, 'recall': 0.22608695652173913, 'f1-score': 0.1980952380952381, 'support': 230.0}, 'ThickNeck': {'precision': 0.20348837209302326, 'recall': 0.18716577540106952, 'f1-score': 0.19498607242339833, 'support': 187.0}, 'ThinNeck': {'precision': 0.0, 'recall': 0.0, 'f1-score': 0.0, 'support': 36.0}, 'TwistedNeck': {'precision': 0.2289156626506024, 'recall': 0.1111111111111111, 'f1-score': 0.14960629921259844, 'support': 171.0}, 'TwistedTail': {'precision': 0.685, 'recall': 0.9032967032967033, 'f1-score': 0.7791469194312797, 'support': 455.0}, 'VacuolatedHead': {'precision': 1.0, 'recall': 0.00980392156862745, 'f1-score': 0.019417475728155338, 'support': 102.0}, 'accuracy': 0.37891399128022196, 'macro avg': {'precision': 0.25717210588348277, 'recall': 0.22367834814223364, 'f1-score': 0.1983093078019489, 'support': 2523.0}, 'weighted avg': {'precision': 0.3469454338715218, 'recall': 0.37891399128022196, 'f1-score': 0.32632011005271105, 'support': 2523.0}}, array([[ 53,   0,   9,   0,   0,   0,  99,   0,   0,  52,   0,   0,  53,\n",
      "         30,   0,  10,   1,   0],\n",
      "       [ 13,   0,   4,   0,   0,   0,  16,   0,   0,  30,   0,   0,  15,\n",
      "          9,   0,   4,   0,   0],\n",
      "       [  3,   0,  72,   0,   0,   0,  12,   0,   1,  14,   0,   0,  16,\n",
      "          2,   0,   6,  65,   0],\n",
      "       [  0,   0,   1,   0,   0,   0,   5,   0,   0,   2,   0,   0,   1,\n",
      "          1,   0,   0,   0,   0],\n",
      "       [  0,   0,   0,   0,   0,   0,   0,   0,   0,   0,   0,   0,   0,\n",
      "          0,   0,   0,  16,   0],\n",
      "       [  0,   0,   0,   0,   0,   0,   0,   0,   1,   0,   0,   0,   0,\n",
      "          0,   0,   0,  20,   0],\n",
      "       [ 31,   0,   7,   0,   0,   0, 191,   0,   0,   1,   0,   1,  31,\n",
      "          4,   0,   4,   1,   0],\n",
      "       [  0,   0,   3,   0,   0,   0,   0,   0,   0,   0,   0,   0,   0,\n",
      "          0,   0,   0,  73,   0],\n",
      "       [  0,   0,   0,   0,   0,   0,   0,   0,  20,   0,   0,   0,   0,\n",
      "          0,   0,   0,   3,   0],\n",
      "       [ 27,   0,   9,   0,   0,   0,  17,   0,   0, 101,   0,   0,  33,\n",
      "         25,   0,  12,   0,   0],\n",
      "       [  8,   0,   1,   0,   0,   0,   6,   0,   0,  11,   0,   0,   2,\n",
      "         11,   0,   1,   0,   0],\n",
      "       [  2,   0,  21,   0,   0,   0,  14,   0,   0,  14,   0,   1,  11,\n",
      "          1,   0,   0,   8,   0],\n",
      "       [ 22,   0,  12,   0,   0,   0,  56,   0,   0,  54,   0,   1,  52,\n",
      "         22,   0,  11,   0,   0],\n",
      "       [ 29,   0,   5,   0,   0,   0,  14,   0,   0,  76,   0,   0,  20,\n",
      "         35,   0,   7,   1,   0],\n",
      "       [  6,   0,   1,   0,   0,   0,   3,   0,   0,  16,   0,   0,   7,\n",
      "          1,   0,   2,   0,   0],\n",
      "       [ 25,   0,  15,   0,   0,   0,  30,   0,   0,  39,   0,   0,  27,\n",
      "         15,   0,  19,   1,   0],\n",
      "       [  0,   0,  27,   0,   0,   0,   6,   0,   4,   1,   0,   0,   3,\n",
      "          0,   0,   3, 411,   0],\n",
      "       [  7,   0,   7,   0,   0,   0,   7,   0,   0,  36,   0,   0,  24,\n",
      "         16,   0,   4,   0,   1]]))}\n"
     ]
    }
   ],
   "source": [
    "print(fold_results)"
   ]
  },
  {
   "cell_type": "code",
   "execution_count": 10,
   "metadata": {},
   "outputs": [],
   "source": [
    "with open(os.path.join(data_dir, 'convnextv2tiny_report.txt'), 'w') as f:\n",
    "    print(fold_results, file=f)"
   ]
  },
  {
   "cell_type": "code",
   "execution_count": 11,
   "metadata": {},
   "outputs": [
    {
     "name": "stdout",
     "output_type": "stream",
     "text": [
      "Confusion matrix saved to datasets/Boya3/convnextv2tiny_fold1.png\n",
      "Confusion matrix saved to datasets/Boya3/convnextv2tiny_fold2.png\n",
      "Confusion matrix saved to datasets/Boya3/convnextv2tiny_fold3.png\n",
      "Confusion matrix saved to datasets/Boya3/convnextv2tiny_fold4.png\n",
      "Confusion matrix saved to datasets/Boya3/convnextv2tiny_fold5.png\n"
     ]
    }
   ],
   "source": [
    "def save_confusion_matrix(cm, classes, output_path, fontsize=11):\n",
    "    plt.figure(figsize=(10, 8))\n",
    "    sns.heatmap(cm, annot=True, fmt='d', cmap=\"OrRd\", cbar=True, \n",
    "                xticklabels=classes, yticklabels=classes, annot_kws={\"size\": fontsize})\n",
    "    \n",
    "    plt.xlabel(\"Predicted\", fontsize=fontsize)\n",
    "    plt.ylabel(\"Actual\", fontsize=fontsize)\n",
    "    plt.title(\"Confusion Matrix\", fontsize=fontsize)\n",
    "    plt.xticks(rotation=90, fontsize=fontsize)\n",
    "    plt.yticks(rotation=0, fontsize=fontsize)\n",
    "    \n",
    "    plt.tight_layout() \n",
    "    plt.savefig(output_path)\n",
    "    plt.close()\n",
    "    print(f\"Confusion matrix saved to {output_path}\")\n",
    "\n",
    "classes = datasets.ImageFolder(root=os.path.join(data_dir, 'fold1', 'test'), transform=transform).classes\n",
    "for i in range(1, 6):\n",
    "    save_confusion_matrix(fold_results[i][1], classes, os.path.join(data_dir, f'convnextv2tiny_fold{i}.png'))"
   ]
  },
  {
   "cell_type": "code",
   "execution_count": 12,
   "metadata": {},
   "outputs": [
    {
     "name": "stdout",
     "output_type": "stream",
     "text": [
      "Cumulative Confusion Matrix:\n",
      "[[ 276    0   47    0    0    0  514    0    0  272    0    0  233  114\n",
      "     0   78    1    2]\n",
      " [  68    0   20    0    0    0   83    0    0  127    0    0   86   42\n",
      "     0   30    1    1]\n",
      " [  18    0  361    0    0    0   79    0    1   81    0    2   69   11\n",
      "     0   37  296    0]\n",
      " [   5    0    3    0    0    0   21    0    0    8    0    0    4    4\n",
      "     0    5    1    1]\n",
      " [   0    0   10    0    0    0    0    0    0    0    0    1    1    0\n",
      "     0    0   69    0]\n",
      " [   0    0    0    0    0    0    0    0    2    0    0    0    0    0\n",
      "     0    0  104    0]\n",
      " [ 200    0   36    0    0    0  943    0    0   17    0    2  129    8\n",
      "     0   18    2    0]\n",
      " [   0    0   14    0    0    1    1    0    4    1    0    0    0    0\n",
      "     0    0  359    0]\n",
      " [   0    0    3    0    0    1    0    0  100    0    0    0    0    0\n",
      "     0    0   13    0]\n",
      " [ 123    0   41    0    0    0   76    0    1  544    1    1  161  113\n",
      "     0   60    2    0]\n",
      " [  30    0    4    0    0    0   29    0    0   78    0    0   17   33\n",
      "     0   10    0    0]\n",
      " [  15    0  123    0    0    0   65    0    0   55    0    2   44    4\n",
      "     0   14   36    1]\n",
      " [ 161    0   55    0    0    0  248    0    0  256    0    4  297   66\n",
      "     0   61    1    1]\n",
      " [ 171    0   18    0    0    0   57    0    0  361    0    0  132  142\n",
      "     0   49    4    0]\n",
      " [  27    0    9    0    0    0   25    0    0   70    0    1   32    8\n",
      "     0    7    1    0]\n",
      " [ 138    0   68    0    0    0  154    0    0  216    0    0  100   52\n",
      "     0  120    6    1]\n",
      " [   1    0  176    0    0    2   22    0   12   17    0    3    9    0\n",
      "     0   10 2025    0]\n",
      " [  66    0   30    0    0    0   29    0    0  214    0    0   83   56\n",
      "     0   29    1    1]]\n",
      "Confusion matrix saved to datasets/Boya3/cumulative_cm.png\n"
     ]
    }
   ],
   "source": [
    "def matrix_sum(fold_results):\n",
    "    cumulative_cm = None\n",
    "\n",
    "\n",
    "    for fold_idx, (report, cm) in fold_results.items():\n",
    "        # Combine confusion matrices\n",
    "        if cumulative_cm is None:\n",
    "            cumulative_cm = cm\n",
    "        else:\n",
    "            cumulative_cm += cm\n",
    "\n",
    "    return cumulative_cm\n",
    "\n",
    "cumulative_cm = matrix_sum(fold_results)\n",
    "\n",
    "print(\"Cumulative Confusion Matrix:\")\n",
    "print(cumulative_cm)\n",
    "with open(os.path.join(data_dir, 'cumulative_cm.txt'), 'w') as f:\n",
    "    print(cumulative_cm, file=f)\n",
    "save_confusion_matrix(cumulative_cm, classes, os.path.join(data_dir, 'cumulative_cm.png'))"
   ]
  },
  {
   "cell_type": "code",
   "execution_count": 13,
   "metadata": {},
   "outputs": [
    {
     "name": "stdout",
     "output_type": "stream",
     "text": [
      "                precision    recall  f1-score   support\n",
      "\n",
      "     AmorfHead     0.2125    0.1796    0.1946      1537\n",
      "AsymmetricNeck     0.0000    0.0000    0.0000       458\n",
      "     CurlyTail     0.3546    0.3780    0.3659       955\n",
      "    DoubleHead     0.0000    0.0000    0.0000        52\n",
      "    DoubleTail     0.0000    0.0000    0.0000        81\n",
      "      LongTail     0.0000    0.0000    0.0000       106\n",
      "NarrowAcrosome     0.4020    0.6959    0.5096      1355\n",
      "        Normal     0.0000    0.0000    0.0000       380\n",
      "       PinHead     0.8333    0.8547    0.8439       117\n",
      "  PyriformHead     0.2348    0.4844    0.3163      1123\n",
      "     RoundHead     0.0000    0.0000    0.0000       201\n",
      "     ShortTail     0.1250    0.0056    0.0107       359\n",
      "   TaperedHead     0.2126    0.2583    0.2332      1150\n",
      "     ThickNeck     0.2175    0.1520    0.1790       934\n",
      "      ThinNeck     0.0000    0.0000    0.0000       180\n",
      "   TwistedNeck     0.2273    0.1404    0.1735       855\n",
      "   TwistedTail     0.6930    0.8893    0.7790      2277\n",
      "VacuolatedHead     0.1250    0.0020    0.0039       509\n",
      "\n",
      "      accuracy                         0.3809     12629\n",
      "     macro avg     0.2021    0.2245    0.2005     12629\n",
      "  weighted avg     0.3088    0.3809    0.3291     12629\n",
      "\n"
     ]
    },
    {
     "name": "stderr",
     "output_type": "stream",
     "text": [
      "/home/gurol/anaconda3/envs/araproje/lib/python3.13/site-packages/sklearn/metrics/_classification.py:1531: UndefinedMetricWarning: Precision is ill-defined and being set to 0.0 in labels with no predicted samples. Use `zero_division` parameter to control this behavior.\n",
      "  _warn_prf(average, modifier, f\"{metric.capitalize()} is\", len(result))\n",
      "/home/gurol/anaconda3/envs/araproje/lib/python3.13/site-packages/sklearn/metrics/_classification.py:1531: UndefinedMetricWarning: Precision is ill-defined and being set to 0.0 in labels with no predicted samples. Use `zero_division` parameter to control this behavior.\n",
      "  _warn_prf(average, modifier, f\"{metric.capitalize()} is\", len(result))\n",
      "/home/gurol/anaconda3/envs/araproje/lib/python3.13/site-packages/sklearn/metrics/_classification.py:1531: UndefinedMetricWarning: Precision is ill-defined and being set to 0.0 in labels with no predicted samples. Use `zero_division` parameter to control this behavior.\n",
      "  _warn_prf(average, modifier, f\"{metric.capitalize()} is\", len(result))\n"
     ]
    }
   ],
   "source": [
    "def classification_report_from_confusion_matrix(confusion_matrix, class_names):\n",
    "    y_true = np.zeros(np.sum(confusion_matrix), dtype=int)\n",
    "    y_pred = np.copy(y_true)\n",
    "\n",
    "    i = 0\n",
    "    for target in range(len(confusion_matrix)):\n",
    "        for pred in range(len(confusion_matrix)):\n",
    "            n = confusion_matrix[target][pred]\n",
    "            y_true[i:i+n] = target\n",
    "            y_pred[i:i+n] = pred\n",
    "            i += n\n",
    "\n",
    "    return classification_report(y_true, y_pred, digits=4, target_names=class_names)\n",
    "\n",
    "avg_report = classification_report_from_confusion_matrix(cumulative_cm, classes)\n",
    "print (avg_report)\n",
    "with open(os.path.join(data_dir, 'average_report.txt'), 'w') as f:\n",
    "    print(avg_report, file=f)"
   ]
  },
  {
   "cell_type": "code",
   "execution_count": null,
   "metadata": {},
   "outputs": [],
   "source": []
  }
 ],
 "metadata": {
  "kernelspec": {
   "display_name": "araproje",
   "language": "python",
   "name": "python3"
  },
  "language_info": {
   "codemirror_mode": {
    "name": "ipython",
    "version": 3
   },
   "file_extension": ".py",
   "mimetype": "text/x-python",
   "name": "python",
   "nbconvert_exporter": "python",
   "pygments_lexer": "ipython3",
   "version": "3.13.0"
  }
 },
 "nbformat": 4,
 "nbformat_minor": 2
}
